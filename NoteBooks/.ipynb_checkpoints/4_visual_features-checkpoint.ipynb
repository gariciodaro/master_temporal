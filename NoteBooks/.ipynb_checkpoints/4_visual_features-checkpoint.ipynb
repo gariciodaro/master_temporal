{
 "cells": [
  {
   "cell_type": "markdown",
   "metadata": {},
   "source": [
    "# Mass experiments on Visual features"
   ]
  },
  {
   "cell_type": "code",
   "execution_count": 2,
   "metadata": {},
   "outputs": [],
   "source": [
    "%reload_ext autoreload\n",
    "%autoreload 2\n",
    "%matplotlib inline\n",
    "\n",
    "\n",
    "import os\n",
    "import sys\n",
    "import numpy as np\n",
    "import pandas as pd\n",
    "#import matplotlib.pyplot as plt\n",
    "\n",
    "sys.path.append(\"/home/gari/Desktop/master_tesis_v3/\")\n",
    "from OFHandlers import OFHandlers as OFH\n",
    "\n",
    "#sys.path.append(\"/home/gari/Desktop/master_tesis_v3/adhd_detector_v2/Auxiliar/\")\n",
    "#from SubjectPick import split_for_brain_library,select_from_each_grup \n",
    "\n",
    "sys.path.append(\"/home/gari/Desktop/master_tesis_v3/adhd_fast_ai/\")\n",
    "\n",
    "\n",
    "\n",
    "from a_featuresToImage import feature_to_image\n",
    "from b_FastAiExperiment import run_fast_ai_experiment\n",
    "from b_FastAiExperiment import get_predictions,get_subject_mean_metrics"
   ]
  },
  {
   "cell_type": "markdown",
   "metadata": {},
   "source": [
    "# Create all the visual features\n",
    "\n",
    "+ delta\n",
    "+ delta_theta\n",
    "+ delta_theta_alpha\n",
    "+ delta_theta_alpha_beta\n",
    "+ alpha_beta"
   ]
  },
  {
   "cell_type": "code",
   "execution_count": 9,
   "metadata": {},
   "outputs": [
    {
     "name": "stdout",
     "output_type": "stream",
     "text": [
      "        name  target\n",
      "0      0.png       1\n",
      "1      1.png       1\n",
      "2      2.png       1\n",
      "3      3.png       1\n",
      "4      4.png       1\n",
      "..       ...     ...\n",
      "423  423.png       1\n",
      "424  424.png       1\n",
      "425  425.png       1\n",
      "426  426.png       1\n",
      "427  427.png       1\n",
      "\n",
      "[428 rows x 2 columns]\n"
     ]
    }
   ],
   "source": [
    "experiment=\"delta\"\n",
    "#Create images for experiment\n",
    "path_to_save=\"/home/gari/Desktop/master_tesis_v3/Data/Datasets_image_\"+experiment\n",
    "feature_to_image(experiment=experiment,\n",
    "                path_to_read_data=\"/home/gari/Desktop/master_tesis_v3/Data\",\n",
    "                path_to_save=path_to_save,\n",
    "                dim_tuple=(110,1),\n",
    "                shuffle_label=False)"
   ]
  },
  {
   "cell_type": "code",
   "execution_count": 10,
   "metadata": {},
   "outputs": [
    {
     "name": "stdout",
     "output_type": "stream",
     "text": [
      "        name  target\n",
      "0      0.png       1\n",
      "1      1.png       1\n",
      "2      2.png       1\n",
      "3      3.png       1\n",
      "4      4.png       1\n",
      "..       ...     ...\n",
      "423  423.png       1\n",
      "424  424.png       1\n",
      "425  425.png       1\n",
      "426  426.png       1\n",
      "427  427.png       1\n",
      "\n",
      "[428 rows x 2 columns]\n"
     ]
    }
   ],
   "source": [
    "experiment=\"delta_theta\"\n",
    "\n",
    "#Create images for experiment\n",
    "path_to_save=\"/home/gari/Desktop/master_tesis_v3/Data/Datasets_image_\"+experiment\n",
    "feature_to_image(experiment=experiment,\n",
    "                path_to_read_data=\"/home/gari/Desktop/master_tesis_v3/Data\",\n",
    "                path_to_save=path_to_save,\n",
    "                dim_tuple=(110,2),\n",
    "                shuffle_label=False)"
   ]
  },
  {
   "cell_type": "code",
   "execution_count": 11,
   "metadata": {},
   "outputs": [
    {
     "name": "stdout",
     "output_type": "stream",
     "text": [
      "        name  target\n",
      "0      0.png       1\n",
      "1      1.png       1\n",
      "2      2.png       1\n",
      "3      3.png       1\n",
      "4      4.png       1\n",
      "..       ...     ...\n",
      "423  423.png       1\n",
      "424  424.png       1\n",
      "425  425.png       1\n",
      "426  426.png       1\n",
      "427  427.png       1\n",
      "\n",
      "[428 rows x 2 columns]\n"
     ]
    }
   ],
   "source": [
    "experiment=\"delta_theta_alpha\"\n",
    "\n",
    "#Create images for experiment\n",
    "path_to_save=\"/home/gari/Desktop/master_tesis_v3/Data/Datasets_image_\"+experiment\n",
    "feature_to_image(experiment=experiment,\n",
    "                path_to_read_data=\"/home/gari/Desktop/master_tesis_v3/Data\",\n",
    "                path_to_save=path_to_save,\n",
    "                dim_tuple=(110,3),\n",
    "                shuffle_label=False)"
   ]
  },
  {
   "cell_type": "code",
   "execution_count": 12,
   "metadata": {},
   "outputs": [
    {
     "name": "stdout",
     "output_type": "stream",
     "text": [
      "        name  target\n",
      "0      0.png       1\n",
      "1      1.png       1\n",
      "2      2.png       1\n",
      "3      3.png       1\n",
      "4      4.png       1\n",
      "..       ...     ...\n",
      "423  423.png       1\n",
      "424  424.png       1\n",
      "425  425.png       1\n",
      "426  426.png       1\n",
      "427  427.png       1\n",
      "\n",
      "[428 rows x 2 columns]\n"
     ]
    }
   ],
   "source": [
    "experiment=\"delta_theta_alpha_beta\"\n",
    "\n",
    "#Create images for experiment\n",
    "path_to_save=\"/home/gari/Desktop/master_tesis_v3/Data/Datasets_image_\"+experiment\n",
    "feature_to_image(experiment=experiment,\n",
    "                path_to_read_data=\"/home/gari/Desktop/master_tesis_v3/Data\",\n",
    "                path_to_save=path_to_save,\n",
    "                dim_tuple=(110,4),\n",
    "                shuffle_label=False)"
   ]
  },
  {
   "cell_type": "code",
   "execution_count": 13,
   "metadata": {},
   "outputs": [
    {
     "name": "stdout",
     "output_type": "stream",
     "text": [
      "        name  target\n",
      "0      0.png       1\n",
      "1      1.png       1\n",
      "2      2.png       1\n",
      "3      3.png       1\n",
      "4      4.png       1\n",
      "..       ...     ...\n",
      "423  423.png       1\n",
      "424  424.png       1\n",
      "425  425.png       1\n",
      "426  426.png       1\n",
      "427  427.png       1\n",
      "\n",
      "[428 rows x 2 columns]\n"
     ]
    }
   ],
   "source": [
    "experiment=\"alpha_beta\"\n",
    "\n",
    "#Create images for experiment\n",
    "path_to_save=\"/home/gari/Desktop/master_tesis_v3/Data/Datasets_image_\"+experiment\n",
    "feature_to_image(experiment=experiment,\n",
    "                path_to_read_data=\"/home/gari/Desktop/master_tesis_v3/Data\",\n",
    "                path_to_save=path_to_save,\n",
    "                dim_tuple=(110,2),\n",
    "                shuffle_label=False)"
   ]
  },
  {
   "cell_type": "markdown",
   "metadata": {},
   "source": [
    "# Run CNN experiments\n",
    "\n",
    "+ delta\n",
    "+ delta_theta\n",
    "+ delta_theta_alpha\n",
    "+ delta_theta_alpha_beta\n",
    "+ alpha_beta"
   ]
  },
  {
   "cell_type": "code",
   "execution_count": 3,
   "metadata": {},
   "outputs": [],
   "source": [
    "#general settings\n",
    "string_model=\"resnet18\"\n",
    "bs=50\n",
    "pretrained=True\n",
    "ps=0.5\n",
    "unfreeze_net=True\n",
    "number_epochs=10\n",
    "track_save_callback=False"
   ]
  },
  {
   "cell_type": "code",
   "execution_count": 5,
   "metadata": {},
   "outputs": [
    {
     "name": "stderr",
     "output_type": "stream",
     "text": [
      "/home/gari/anaconda3/envs/fast_ai/lib/python3.7/site-packages/fastai/data_block.py:457: UserWarning: Your validation set is empty. If this is by design, use `split_none()`\n",
      "                 or pass `ignore_empty=True` when labelling to remove this warning.\n",
      "  or pass `ignore_empty=True` when labelling to remove this warning.\"\"\")\n"
     ]
    },
    {
     "data": {
      "text/html": [
       "<table border=\"1\" class=\"dataframe\">\n",
       "  <thead>\n",
       "    <tr style=\"text-align: left;\">\n",
       "      <th>epoch</th>\n",
       "      <th>train_loss</th>\n",
       "      <th>valid_loss</th>\n",
       "      <th>accuracy</th>\n",
       "      <th>auroc</th>\n",
       "      <th>time</th>\n",
       "    </tr>\n",
       "  </thead>\n",
       "  <tbody>\n",
       "    <tr>\n",
       "      <td>0</td>\n",
       "      <td>1.184132</td>\n",
       "      <td>#na#</td>\n",
       "      <td>00:10</td>\n",
       "    </tr>\n",
       "    <tr>\n",
       "      <td>1</td>\n",
       "      <td>0.885544</td>\n",
       "      <td>#na#</td>\n",
       "      <td>00:10</td>\n",
       "    </tr>\n",
       "    <tr>\n",
       "      <td>2</td>\n",
       "      <td>0.751349</td>\n",
       "      <td>#na#</td>\n",
       "      <td>00:10</td>\n",
       "    </tr>\n",
       "    <tr>\n",
       "      <td>3</td>\n",
       "      <td>0.607296</td>\n",
       "      <td>#na#</td>\n",
       "      <td>00:10</td>\n",
       "    </tr>\n",
       "    <tr>\n",
       "      <td>4</td>\n",
       "      <td>0.483732</td>\n",
       "      <td>#na#</td>\n",
       "      <td>00:10</td>\n",
       "    </tr>\n",
       "    <tr>\n",
       "      <td>5</td>\n",
       "      <td>0.357578</td>\n",
       "      <td>#na#</td>\n",
       "      <td>00:10</td>\n",
       "    </tr>\n",
       "    <tr>\n",
       "      <td>6</td>\n",
       "      <td>0.255641</td>\n",
       "      <td>#na#</td>\n",
       "      <td>00:11</td>\n",
       "    </tr>\n",
       "    <tr>\n",
       "      <td>7</td>\n",
       "      <td>0.175376</td>\n",
       "      <td>#na#</td>\n",
       "      <td>00:10</td>\n",
       "    </tr>\n",
       "    <tr>\n",
       "      <td>8</td>\n",
       "      <td>0.122866</td>\n",
       "      <td>#na#</td>\n",
       "      <td>00:10</td>\n",
       "    </tr>\n",
       "    <tr>\n",
       "      <td>9</td>\n",
       "      <td>0.084674</td>\n",
       "      <td>#na#</td>\n",
       "      <td>00:11</td>\n",
       "    </tr>\n",
       "  </tbody>\n",
       "</table>"
      ],
      "text/plain": [
       "<IPython.core.display.HTML object>"
      ]
     },
     "metadata": {},
     "output_type": "display_data"
    },
    {
     "name": "stdout",
     "output_type": "stream",
     "text": [
      "*********************************************************\n",
      "acc_score_c        0.55\n",
      "f1_score_c         0.68\n",
      "precision_score_c  0.79\n",
      "recall_score_c     0.59\n",
      "*********************************************************\n"
     ]
    },
    {
     "data": {
      "image/png": "[encoded data removed]",
      "text/plain": [
       "<Figure size 504x432 with 9 Axes>"
      ]
     },
     "metadata": {
      "needs_background": "light"
     },
     "output_type": "display_data"
    }
   ],
   "source": [
    "experiment=\"delta\"\n",
    "path_to_save=\"/home/gari/Desktop/master_tesis_v3/Data/Datasets_image_\"+experiment\n",
    "(acc_score_c,\n",
    "f1_score_c,\n",
    "precision_score_c,\n",
    "recall_score_c,\n",
    "df_subject_pre)=run_fast_ai_experiment(bs=bs,\n",
    "            path=path_to_save,\n",
    "            string_model=string_model,\n",
    "            pretrained=pretrained,\n",
    "            unfreeze_net=unfreeze_net,\n",
    "            track_save_callback=track_save_callback,\n",
    "            number_epochs=number_epochs,\n",
    "            ps=ps,\n",
    "            normalize=True,\n",
    "            lr=None)\n",
    "\n",
    "df_subject_pre.to_csv(\"/home/gari/Desktop/master_tesis_v3/adhd_fast_ai/results/\"+experiment+\".csv\")"
   ]
  },
  {
   "cell_type": "code",
   "execution_count": 6,
   "metadata": {},
   "outputs": [
    {
     "name": "stderr",
     "output_type": "stream",
     "text": [
      "/home/gari/anaconda3/envs/fast_ai/lib/python3.7/site-packages/fastai/data_block.py:457: UserWarning: Your validation set is empty. If this is by design, use `split_none()`\n",
      "                 or pass `ignore_empty=True` when labelling to remove this warning.\n",
      "  or pass `ignore_empty=True` when labelling to remove this warning.\"\"\")\n"
     ]
    },
    {
     "data": {
      "text/html": [
       "<table border=\"1\" class=\"dataframe\">\n",
       "  <thead>\n",
       "    <tr style=\"text-align: left;\">\n",
       "      <th>epoch</th>\n",
       "      <th>train_loss</th>\n",
       "      <th>valid_loss</th>\n",
       "      <th>accuracy</th>\n",
       "      <th>auroc</th>\n",
       "      <th>time</th>\n",
       "    </tr>\n",
       "  </thead>\n",
       "  <tbody>\n",
       "    <tr>\n",
       "      <td>0</td>\n",
       "      <td>1.159703</td>\n",
       "      <td>#na#</td>\n",
       "      <td>00:11</td>\n",
       "    </tr>\n",
       "    <tr>\n",
       "      <td>1</td>\n",
       "      <td>0.920379</td>\n",
       "      <td>#na#</td>\n",
       "      <td>00:10</td>\n",
       "    </tr>\n",
       "    <tr>\n",
       "      <td>2</td>\n",
       "      <td>0.761820</td>\n",
       "      <td>#na#</td>\n",
       "      <td>00:10</td>\n",
       "    </tr>\n",
       "    <tr>\n",
       "      <td>3</td>\n",
       "      <td>0.657292</td>\n",
       "      <td>#na#</td>\n",
       "      <td>00:10</td>\n",
       "    </tr>\n",
       "    <tr>\n",
       "      <td>4</td>\n",
       "      <td>0.496692</td>\n",
       "      <td>#na#</td>\n",
       "      <td>00:11</td>\n",
       "    </tr>\n",
       "    <tr>\n",
       "      <td>5</td>\n",
       "      <td>0.375481</td>\n",
       "      <td>#na#</td>\n",
       "      <td>00:10</td>\n",
       "    </tr>\n",
       "    <tr>\n",
       "      <td>6</td>\n",
       "      <td>0.280619</td>\n",
       "      <td>#na#</td>\n",
       "      <td>00:10</td>\n",
       "    </tr>\n",
       "    <tr>\n",
       "      <td>7</td>\n",
       "      <td>0.196193</td>\n",
       "      <td>#na#</td>\n",
       "      <td>00:10</td>\n",
       "    </tr>\n",
       "    <tr>\n",
       "      <td>8</td>\n",
       "      <td>0.137767</td>\n",
       "      <td>#na#</td>\n",
       "      <td>00:10</td>\n",
       "    </tr>\n",
       "    <tr>\n",
       "      <td>9</td>\n",
       "      <td>0.097902</td>\n",
       "      <td>#na#</td>\n",
       "      <td>00:10</td>\n",
       "    </tr>\n",
       "  </tbody>\n",
       "</table>"
      ],
      "text/plain": [
       "<IPython.core.display.HTML object>"
      ]
     },
     "metadata": {},
     "output_type": "display_data"
    },
    {
     "name": "stdout",
     "output_type": "stream",
     "text": [
      "*********************************************************\n",
      "acc_score_c        0.6\n",
      "f1_score_c         0.71\n",
      "precision_score_c  0.86\n",
      "recall_score_c     0.61\n",
      "*********************************************************\n"
     ]
    },
    {
     "data": {
      "image/png": "[encoded data removed]",
      "text/plain": [
       "<Figure size 504x432 with 9 Axes>"
      ]
     },
     "metadata": {
      "needs_background": "light"
     },
     "output_type": "display_data"
    }
   ],
   "source": [
    "experiment=\"delta_theta\"\n",
    "path_to_save=\"/home/gari/Desktop/master_tesis_v3/Data/Datasets_image_\"+experiment\n",
    "(acc_score_c,\n",
    "f1_score_c,\n",
    "precision_score_c,\n",
    "recall_score_c,\n",
    "df_subject_pre)=run_fast_ai_experiment(bs=bs,\n",
    "            path=path_to_save,\n",
    "            string_model=string_model,\n",
    "            pretrained=pretrained,\n",
    "            unfreeze_net=unfreeze_net,\n",
    "            track_save_callback=track_save_callback,\n",
    "            number_epochs=number_epochs,\n",
    "            ps=ps,\n",
    "            normalize=True,\n",
    "            lr=None)\n",
    "\n",
    "df_subject_pre.to_csv(\"/home/gari/Desktop/master_tesis_v3/adhd_fast_ai/results/\"+experiment+\".csv\")"
   ]
  },
  {
   "cell_type": "code",
   "execution_count": 7,
   "metadata": {},
   "outputs": [
    {
     "name": "stderr",
     "output_type": "stream",
     "text": [
      "/home/gari/anaconda3/envs/fast_ai/lib/python3.7/site-packages/fastai/data_block.py:457: UserWarning: Your validation set is empty. If this is by design, use `split_none()`\n",
      "                 or pass `ignore_empty=True` when labelling to remove this warning.\n",
      "  or pass `ignore_empty=True` when labelling to remove this warning.\"\"\")\n"
     ]
    },
    {
     "data": {
      "text/html": [
       "<table border=\"1\" class=\"dataframe\">\n",
       "  <thead>\n",
       "    <tr style=\"text-align: left;\">\n",
       "      <th>epoch</th>\n",
       "      <th>train_loss</th>\n",
       "      <th>valid_loss</th>\n",
       "      <th>accuracy</th>\n",
       "      <th>auroc</th>\n",
       "      <th>time</th>\n",
       "    </tr>\n",
       "  </thead>\n",
       "  <tbody>\n",
       "    <tr>\n",
       "      <td>0</td>\n",
       "      <td>1.296638</td>\n",
       "      <td>#na#</td>\n",
       "      <td>00:11</td>\n",
       "    </tr>\n",
       "    <tr>\n",
       "      <td>1</td>\n",
       "      <td>0.935587</td>\n",
       "      <td>#na#</td>\n",
       "      <td>00:11</td>\n",
       "    </tr>\n",
       "    <tr>\n",
       "      <td>2</td>\n",
       "      <td>0.756882</td>\n",
       "      <td>#na#</td>\n",
       "      <td>00:11</td>\n",
       "    </tr>\n",
       "    <tr>\n",
       "      <td>3</td>\n",
       "      <td>0.580821</td>\n",
       "      <td>#na#</td>\n",
       "      <td>00:10</td>\n",
       "    </tr>\n",
       "    <tr>\n",
       "      <td>4</td>\n",
       "      <td>0.423059</td>\n",
       "      <td>#na#</td>\n",
       "      <td>00:11</td>\n",
       "    </tr>\n",
       "    <tr>\n",
       "      <td>5</td>\n",
       "      <td>0.315160</td>\n",
       "      <td>#na#</td>\n",
       "      <td>00:11</td>\n",
       "    </tr>\n",
       "    <tr>\n",
       "      <td>6</td>\n",
       "      <td>0.229225</td>\n",
       "      <td>#na#</td>\n",
       "      <td>00:11</td>\n",
       "    </tr>\n",
       "    <tr>\n",
       "      <td>7</td>\n",
       "      <td>0.165201</td>\n",
       "      <td>#na#</td>\n",
       "      <td>00:11</td>\n",
       "    </tr>\n",
       "    <tr>\n",
       "      <td>8</td>\n",
       "      <td>0.115769</td>\n",
       "      <td>#na#</td>\n",
       "      <td>00:10</td>\n",
       "    </tr>\n",
       "    <tr>\n",
       "      <td>9</td>\n",
       "      <td>0.087618</td>\n",
       "      <td>#na#</td>\n",
       "      <td>00:11</td>\n",
       "    </tr>\n",
       "  </tbody>\n",
       "</table>"
      ],
      "text/plain": [
       "<IPython.core.display.HTML object>"
      ]
     },
     "metadata": {},
     "output_type": "display_data"
    },
    {
     "name": "stdout",
     "output_type": "stream",
     "text": [
      "*********************************************************\n",
      "acc_score_c        0.65\n",
      "f1_score_c         0.75\n",
      "precision_score_c  0.87\n",
      "recall_score_c     0.67\n",
      "*********************************************************\n"
     ]
    },
    {
     "data": {
      "image/png": "[encoded data removed]",
      "text/plain": [
       "<Figure size 504x432 with 9 Axes>"
      ]
     },
     "metadata": {
      "needs_background": "light"
     },
     "output_type": "display_data"
    }
   ],
   "source": [
    "experiment=\"delta_theta_alpha\"\n",
    "path_to_save=\"/home/gari/Desktop/master_tesis_v3/Data/Datasets_image_\"+experiment\n",
    "(acc_score_c,\n",
    "f1_score_c,\n",
    "precision_score_c,\n",
    "recall_score_c,\n",
    "df_subject_pre)=run_fast_ai_experiment(bs=bs,\n",
    "            path=path_to_save,\n",
    "            string_model=string_model,\n",
    "            pretrained=pretrained,\n",
    "            unfreeze_net=unfreeze_net,\n",
    "            track_save_callback=track_save_callback,\n",
    "            number_epochs=number_epochs,\n",
    "            ps=ps,\n",
    "            normalize=True,\n",
    "            lr=None)\n",
    "\n",
    "df_subject_pre.to_csv(\"/home/gari/Desktop/master_tesis_v3/adhd_fast_ai/results/\"+experiment+\".csv\")"
   ]
  },
  {
   "cell_type": "code",
   "execution_count": 8,
   "metadata": {},
   "outputs": [
    {
     "name": "stderr",
     "output_type": "stream",
     "text": [
      "/home/gari/anaconda3/envs/fast_ai/lib/python3.7/site-packages/fastai/data_block.py:457: UserWarning: Your validation set is empty. If this is by design, use `split_none()`\n",
      "                 or pass `ignore_empty=True` when labelling to remove this warning.\n",
      "  or pass `ignore_empty=True` when labelling to remove this warning.\"\"\")\n"
     ]
    },
    {
     "data": {
      "text/html": [
       "<table border=\"1\" class=\"dataframe\">\n",
       "  <thead>\n",
       "    <tr style=\"text-align: left;\">\n",
       "      <th>epoch</th>\n",
       "      <th>train_loss</th>\n",
       "      <th>valid_loss</th>\n",
       "      <th>accuracy</th>\n",
       "      <th>auroc</th>\n",
       "      <th>time</th>\n",
       "    </tr>\n",
       "  </thead>\n",
       "  <tbody>\n",
       "    <tr>\n",
       "      <td>0</td>\n",
       "      <td>1.131371</td>\n",
       "      <td>#na#</td>\n",
       "      <td>00:11</td>\n",
       "    </tr>\n",
       "    <tr>\n",
       "      <td>1</td>\n",
       "      <td>0.811097</td>\n",
       "      <td>#na#</td>\n",
       "      <td>00:10</td>\n",
       "    </tr>\n",
       "    <tr>\n",
       "      <td>2</td>\n",
       "      <td>0.683725</td>\n",
       "      <td>#na#</td>\n",
       "      <td>00:10</td>\n",
       "    </tr>\n",
       "    <tr>\n",
       "      <td>3</td>\n",
       "      <td>0.589725</td>\n",
       "      <td>#na#</td>\n",
       "      <td>00:11</td>\n",
       "    </tr>\n",
       "    <tr>\n",
       "      <td>4</td>\n",
       "      <td>0.462710</td>\n",
       "      <td>#na#</td>\n",
       "      <td>00:11</td>\n",
       "    </tr>\n",
       "    <tr>\n",
       "      <td>5</td>\n",
       "      <td>0.333076</td>\n",
       "      <td>#na#</td>\n",
       "      <td>00:11</td>\n",
       "    </tr>\n",
       "    <tr>\n",
       "      <td>6</td>\n",
       "      <td>0.241224</td>\n",
       "      <td>#na#</td>\n",
       "      <td>00:11</td>\n",
       "    </tr>\n",
       "    <tr>\n",
       "      <td>7</td>\n",
       "      <td>0.166291</td>\n",
       "      <td>#na#</td>\n",
       "      <td>00:11</td>\n",
       "    </tr>\n",
       "    <tr>\n",
       "      <td>8</td>\n",
       "      <td>0.116326</td>\n",
       "      <td>#na#</td>\n",
       "      <td>00:11</td>\n",
       "    </tr>\n",
       "    <tr>\n",
       "      <td>9</td>\n",
       "      <td>0.081223</td>\n",
       "      <td>#na#</td>\n",
       "      <td>00:10</td>\n",
       "    </tr>\n",
       "  </tbody>\n",
       "</table>"
      ],
      "text/plain": [
       "<IPython.core.display.HTML object>"
      ]
     },
     "metadata": {},
     "output_type": "display_data"
    },
    {
     "name": "stdout",
     "output_type": "stream",
     "text": [
      "*********************************************************\n",
      "acc_score_c        0.63\n",
      "f1_score_c         0.73\n",
      "precision_score_c  0.88\n",
      "recall_score_c     0.62\n",
      "*********************************************************\n"
     ]
    },
    {
     "data": {
      "image/png": "[encoded data removed]",
      "text/plain": [
       "<Figure size 504x432 with 9 Axes>"
      ]
     },
     "metadata": {
      "needs_background": "light"
     },
     "output_type": "display_data"
    }
   ],
   "source": [
    "experiment=\"delta_theta_alpha_beta\"\n",
    "path_to_save=\"/home/gari/Desktop/master_tesis_v3/Data/Datasets_image_\"+experiment\n",
    "(acc_score_c,\n",
    "f1_score_c,\n",
    "precision_score_c,\n",
    "recall_score_c,\n",
    "df_subject_pre)=run_fast_ai_experiment(bs=bs,\n",
    "            path=path_to_save,\n",
    "            string_model=string_model,\n",
    "            pretrained=pretrained,\n",
    "            unfreeze_net=unfreeze_net,\n",
    "            track_save_callback=track_save_callback,\n",
    "            number_epochs=number_epochs,\n",
    "            ps=ps,\n",
    "            normalize=True,\n",
    "            lr=None)\n",
    "\n",
    "df_subject_pre.to_csv(\"/home/gari/Desktop/master_tesis_v3/adhd_fast_ai/results/\"+experiment+\".csv\")"
   ]
  },
  {
   "cell_type": "code",
   "execution_count": 9,
   "metadata": {},
   "outputs": [
    {
     "name": "stderr",
     "output_type": "stream",
     "text": [
      "/home/gari/anaconda3/envs/fast_ai/lib/python3.7/site-packages/fastai/data_block.py:457: UserWarning: Your validation set is empty. If this is by design, use `split_none()`\n",
      "                 or pass `ignore_empty=True` when labelling to remove this warning.\n",
      "  or pass `ignore_empty=True` when labelling to remove this warning.\"\"\")\n"
     ]
    },
    {
     "data": {
      "text/html": [
       "<table border=\"1\" class=\"dataframe\">\n",
       "  <thead>\n",
       "    <tr style=\"text-align: left;\">\n",
       "      <th>epoch</th>\n",
       "      <th>train_loss</th>\n",
       "      <th>valid_loss</th>\n",
       "      <th>accuracy</th>\n",
       "      <th>auroc</th>\n",
       "      <th>time</th>\n",
       "    </tr>\n",
       "  </thead>\n",
       "  <tbody>\n",
       "    <tr>\n",
       "      <td>0</td>\n",
       "      <td>1.192842</td>\n",
       "      <td>#na#</td>\n",
       "      <td>00:11</td>\n",
       "    </tr>\n",
       "    <tr>\n",
       "      <td>1</td>\n",
       "      <td>0.875036</td>\n",
       "      <td>#na#</td>\n",
       "      <td>00:11</td>\n",
       "    </tr>\n",
       "    <tr>\n",
       "      <td>2</td>\n",
       "      <td>0.697401</td>\n",
       "      <td>#na#</td>\n",
       "      <td>00:11</td>\n",
       "    </tr>\n",
       "    <tr>\n",
       "      <td>3</td>\n",
       "      <td>0.621336</td>\n",
       "      <td>#na#</td>\n",
       "      <td>00:11</td>\n",
       "    </tr>\n",
       "    <tr>\n",
       "      <td>4</td>\n",
       "      <td>0.463048</td>\n",
       "      <td>#na#</td>\n",
       "      <td>00:10</td>\n",
       "    </tr>\n",
       "    <tr>\n",
       "      <td>5</td>\n",
       "      <td>0.329009</td>\n",
       "      <td>#na#</td>\n",
       "      <td>00:10</td>\n",
       "    </tr>\n",
       "    <tr>\n",
       "      <td>6</td>\n",
       "      <td>0.229116</td>\n",
       "      <td>#na#</td>\n",
       "      <td>00:11</td>\n",
       "    </tr>\n",
       "    <tr>\n",
       "      <td>7</td>\n",
       "      <td>0.161630</td>\n",
       "      <td>#na#</td>\n",
       "      <td>00:10</td>\n",
       "    </tr>\n",
       "    <tr>\n",
       "      <td>8</td>\n",
       "      <td>0.110362</td>\n",
       "      <td>#na#</td>\n",
       "      <td>00:11</td>\n",
       "    </tr>\n",
       "    <tr>\n",
       "      <td>9</td>\n",
       "      <td>0.075924</td>\n",
       "      <td>#na#</td>\n",
       "      <td>00:11</td>\n",
       "    </tr>\n",
       "  </tbody>\n",
       "</table>"
      ],
      "text/plain": [
       "<IPython.core.display.HTML object>"
      ]
     },
     "metadata": {},
     "output_type": "display_data"
    },
    {
     "name": "stdout",
     "output_type": "stream",
     "text": [
      "*********************************************************\n",
      "acc_score_c        0.66\n",
      "f1_score_c         0.76\n",
      "precision_score_c  0.9\n",
      "recall_score_c     0.65\n",
      "*********************************************************\n"
     ]
    },
    {
     "data": {
      "image/png": "[encoded data removed]",
      "text/plain": [
       "<Figure size 504x432 with 9 Axes>"
      ]
     },
     "metadata": {
      "needs_background": "light"
     },
     "output_type": "display_data"
    }
   ],
   "source": [
    "\n",
    "experiment=\"alpha_beta\"\n",
    "path_to_save=\"/home/gari/Desktop/master_tesis_v3/Data/Datasets_image_\"+experiment\n",
    "(acc_score_c,\n",
    "f1_score_c,\n",
    "precision_score_c,\n",
    "recall_score_c,\n",
    "df_subject_pre)=run_fast_ai_experiment(bs=bs,\n",
    "            path=path_to_save,\n",
    "            string_model=string_model,\n",
    "            pretrained=pretrained,\n",
    "            unfreeze_net=unfreeze_net,\n",
    "            track_save_callback=track_save_callback,\n",
    "            number_epochs=number_epochs,\n",
    "            ps=ps,\n",
    "            normalize=True,\n",
    "            lr=None)\n",
    "\n",
    "df_subject_pre.to_csv(\"/home/gari/Desktop/master_tesis_v3/adhd_fast_ai/results/\"+experiment+\".csv\")"
   ]
  },
  {
   "cell_type": "code",
   "execution_count": null,
   "metadata": {},
   "outputs": [],
   "source": []
  }
 ],
 "metadata": {
  "kernelspec": {
   "display_name": "Python 3",
   "language": "python",
   "name": "python3"
  },
  "language_info": {
   "codemirror_mode": {
    "name": "ipython",
    "version": 3
   },
   "file_extension": ".py",
   "mimetype": "text/x-python",
   "name": "python",
   "nbconvert_exporter": "python",
   "pygments_lexer": "ipython3",
   "version": "3.7.4"
  }
 },
 "nbformat": 4,
 "nbformat_minor": 4
}
