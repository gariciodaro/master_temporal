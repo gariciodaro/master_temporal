{
 "cells": [
  {
   "cell_type": "markdown",
   "metadata": {},
   "source": [
    "# Mass experiments on Visual features"
   ]
  },
  {
   "cell_type": "code",
   "execution_count": 1,
   "metadata": {},
   "outputs": [],
   "source": [
    "%reload_ext autoreload\n",
    "%autoreload 2\n",
    "%matplotlib inline\n",
    "\n",
    "\n",
    "import os\n",
    "import sys\n",
    "import numpy as np\n",
    "import pandas as pd\n",
    "#import matplotlib.pyplot as plt\n",
    "\n",
    "sys.path.append(\"/home/gari/Desktop/master_tesis_v3/\")\n",
    "from OFHandlers import OFHandlers as OFH\n",
    "\n",
    "#sys.path.append(\"/home/gari/Desktop/master_tesis_v3/adhd_detector_v2/Auxiliar/\")\n",
    "#from SubjectPick import split_for_brain_library,select_from_each_grup \n",
    "\n",
    "sys.path.append(\"/home/gari/Desktop/master_tesis_v3/adhd_fast_ai/\")\n",
    "\n",
    "\n",
    "\n",
    "from a_featuresToImage import feature_to_image\n",
    "from b_FastAiExperiment import run_fast_ai_experiment\n",
    "from b_FastAiExperiment import get_predictions,get_subject_mean_metrics"
   ]
  },
  {
   "cell_type": "markdown",
   "metadata": {},
   "source": [
    "# Create all the visual features\n",
    "\n",
    "+ alpha_beta_ratio_theta_beta"
   ]
  },
  {
   "cell_type": "code",
   "execution_count": 2,
   "metadata": {},
   "outputs": [
    {
     "name": "stdout",
     "output_type": "stream",
     "text": [
      "        name  target\n",
      "0      0.png       1\n",
      "1      1.png       1\n",
      "2      2.png       1\n",
      "3      3.png       1\n",
      "4      4.png       1\n",
      "..       ...     ...\n",
      "423  423.png       1\n",
      "424  424.png       1\n",
      "425  425.png       1\n",
      "426  426.png       1\n",
      "427  427.png       1\n",
      "\n",
      "[428 rows x 2 columns]\n"
     ]
    }
   ],
   "source": [
    "experiment=\"alpha_beta_ratio_theta_beta\"\n",
    "#Create images for experiment\n",
    "path_to_save=\"/home/gari/Desktop/master_tesis_v3/Data/Datasets_image_\"+experiment\n",
    "feature_to_image(experiment=experiment,\n",
    "                path_to_read_data=\"/home/gari/Desktop/master_tesis_v3/Data\",\n",
    "                path_to_save=path_to_save,\n",
    "                dim_tuple=(110,3),\n",
    "                shuffle_label=False)"
   ]
  },
  {
   "cell_type": "markdown",
   "metadata": {},
   "source": [
    "# Run CNN experiments\n",
    "\n",
    "+ alpha_beta_ratio_theta_beta"
   ]
  },
  {
   "cell_type": "code",
   "execution_count": 3,
   "metadata": {},
   "outputs": [],
   "source": [
    "#general settings\n",
    "string_model=\"resnet18\"\n",
    "bs=50\n",
    "pretrained=True\n",
    "ps=0.5\n",
    "unfreeze_net=True\n",
    "number_epochs=11\n",
    "track_save_callback=False"
   ]
  },
  {
   "cell_type": "code",
   "execution_count": 4,
   "metadata": {},
   "outputs": [
    {
     "name": "stderr",
     "output_type": "stream",
     "text": [
      "/home/gari/anaconda3/envs/fast_ai/lib/python3.7/site-packages/fastai/data_block.py:457: UserWarning: Your validation set is empty. If this is by design, use `split_none()`\n",
      "                 or pass `ignore_empty=True` when labelling to remove this warning.\n",
      "  or pass `ignore_empty=True` when labelling to remove this warning.\"\"\")\n"
     ]
    },
    {
     "data": {
      "text/html": [
       "<table border=\"1\" class=\"dataframe\">\n",
       "  <thead>\n",
       "    <tr style=\"text-align: left;\">\n",
       "      <th>epoch</th>\n",
       "      <th>train_loss</th>\n",
       "      <th>valid_loss</th>\n",
       "      <th>accuracy</th>\n",
       "      <th>auroc</th>\n",
       "      <th>time</th>\n",
       "    </tr>\n",
       "  </thead>\n",
       "  <tbody>\n",
       "    <tr>\n",
       "      <td>0</td>\n",
       "      <td>1.182594</td>\n",
       "      <td>#na#</td>\n",
       "      <td>00:14</td>\n",
       "    </tr>\n",
       "    <tr>\n",
       "      <td>1</td>\n",
       "      <td>0.998006</td>\n",
       "      <td>#na#</td>\n",
       "      <td>00:11</td>\n",
       "    </tr>\n",
       "    <tr>\n",
       "      <td>2</td>\n",
       "      <td>0.953101</td>\n",
       "      <td>#na#</td>\n",
       "      <td>00:11</td>\n",
       "    </tr>\n",
       "    <tr>\n",
       "      <td>3</td>\n",
       "      <td>0.844339</td>\n",
       "      <td>#na#</td>\n",
       "      <td>00:11</td>\n",
       "    </tr>\n",
       "    <tr>\n",
       "      <td>4</td>\n",
       "      <td>0.672365</td>\n",
       "      <td>#na#</td>\n",
       "      <td>00:11</td>\n",
       "    </tr>\n",
       "    <tr>\n",
       "      <td>5</td>\n",
       "      <td>0.496065</td>\n",
       "      <td>#na#</td>\n",
       "      <td>00:11</td>\n",
       "    </tr>\n",
       "    <tr>\n",
       "      <td>6</td>\n",
       "      <td>0.366093</td>\n",
       "      <td>#na#</td>\n",
       "      <td>00:12</td>\n",
       "    </tr>\n",
       "    <tr>\n",
       "      <td>7</td>\n",
       "      <td>0.261486</td>\n",
       "      <td>#na#</td>\n",
       "      <td>00:11</td>\n",
       "    </tr>\n",
       "    <tr>\n",
       "      <td>8</td>\n",
       "      <td>0.184986</td>\n",
       "      <td>#na#</td>\n",
       "      <td>00:11</td>\n",
       "    </tr>\n",
       "    <tr>\n",
       "      <td>9</td>\n",
       "      <td>0.128723</td>\n",
       "      <td>#na#</td>\n",
       "      <td>00:12</td>\n",
       "    </tr>\n",
       "    <tr>\n",
       "      <td>10</td>\n",
       "      <td>0.091205</td>\n",
       "      <td>#na#</td>\n",
       "      <td>00:12</td>\n",
       "    </tr>\n",
       "  </tbody>\n",
       "</table>"
      ],
      "text/plain": [
       "<IPython.core.display.HTML object>"
      ]
     },
     "metadata": {},
     "output_type": "display_data"
    },
    {
     "name": "stdout",
     "output_type": "stream",
     "text": [
      "*********************************************************\n",
      "acc_score_c        0.66\n",
      "f1_score_c         0.75\n",
      "precision_score_c  0.93\n",
      "recall_score_c     0.62\n",
      "*********************************************************\n"
     ]
    },
    {
     "data": {
      "image/png": "[encoded data removed]",
      "text/plain": [
       "<Figure size 504x432 with 9 Axes>"
      ]
     },
     "metadata": {
      "needs_background": "light"
     },
     "output_type": "display_data"
    }
   ],
   "source": [
    "experiment=\"alpha_beta_ratio_theta_beta\"\n",
    "path_to_save=\"/home/gari/Desktop/master_tesis_v3/Data/Datasets_image_\"+experiment\n",
    "(acc_score_c,\n",
    "f1_score_c,\n",
    "precision_score_c,\n",
    "recall_score_c,\n",
    "df_subject_pre)=run_fast_ai_experiment(bs=bs,\n",
    "            path=path_to_save,\n",
    "            string_model=string_model,\n",
    "            pretrained=pretrained,\n",
    "            unfreeze_net=unfreeze_net,\n",
    "            track_save_callback=track_save_callback,\n",
    "            number_epochs=number_epochs,\n",
    "            ps=ps,\n",
    "            normalize=True,\n",
    "            lr=None)\n",
    "\n",
    "df_subject_pre.to_csv(\"/home/gari/Desktop/master_tesis_v3/adhd_fast_ai/results/\"+experiment+\".csv\")"
   ]
  },
  {
   "cell_type": "code",
   "execution_count": null,
   "metadata": {},
   "outputs": [],
   "source": []
  }
 ],
 "metadata": {
  "kernelspec": {
   "display_name": "Python 3",
   "language": "python",
   "name": "python3"
  },
  "language_info": {
   "codemirror_mode": {
    "name": "ipython",
    "version": 3
   },
   "file_extension": ".py",
   "mimetype": "text/x-python",
   "name": "python",
   "nbconvert_exporter": "python",
   "pygments_lexer": "ipython3",
   "version": "3.7.4"
  }
 },
 "nbformat": 4,
 "nbformat_minor": 4
}
