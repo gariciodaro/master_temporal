{
 "cells": [
  {
   "cell_type": "code",
   "execution_count": 1,
   "metadata": {},
   "outputs": [],
   "source": [
    "#id 44 combined\n",
    "n=47\n",
    "variance=0.096\n",
    "z=1.96\n",
    "\n",
    "E=z*(variance**(1/2))/(n)**(1/2)"
   ]
  },
  {
   "cell_type": "code",
   "execution_count": 4,
   "metadata": {},
   "outputs": [
    {
     "data": {
      "text/plain": [
       "0.08858144467339384"
      ]
     },
     "execution_count": 4,
     "metadata": {},
     "output_type": "execute_result"
    }
   ],
   "source": [
    "E"
   ]
  },
  {
   "cell_type": "code",
   "execution_count": 7,
   "metadata": {},
   "outputs": [
    {
     "data": {
      "text/plain": [
       "0.196"
      ]
     },
     "execution_count": 7,
     "metadata": {},
     "output_type": "execute_result"
    }
   ],
   "source": [
    "# id-44 hiper\n",
    "n=2\n",
    "variance=0.02\n",
    "z=1.96\n",
    "\n",
    "E=z*(variance**(1/2))/(n)**(1/2)\n",
    "E"
   ]
  },
  {
   "cell_type": "code",
   "execution_count": 8,
   "metadata": {},
   "outputs": [
    {
     "data": {
      "text/plain": [
       "0.12155403989742428"
      ]
     },
     "execution_count": 8,
     "metadata": {},
     "output_type": "execute_result"
    }
   ],
   "source": [
    "# id-44 helthy\n",
    "n=13\n",
    "variance=0.05\n",
    "z=1.96\n",
    "\n",
    "E=z*(variance**(1/2))/(n)**(1/2)\n",
    "E"
   ]
  },
  {
   "cell_type": "code",
   "execution_count": 9,
   "metadata": {},
   "outputs": [
    {
     "data": {
      "text/plain": [
       "0.029984960769366128"
      ]
     },
     "execution_count": 9,
     "metadata": {},
     "output_type": "execute_result"
    }
   ],
   "source": [
    "#id 2 combined\n",
    "n=47\n",
    "variance=0.011\n",
    "z=1.96\n",
    "\n",
    "E=z*(variance**(1/2))/(n)**(1/2)\n",
    "E"
   ]
  },
  {
   "cell_type": "code",
   "execution_count": 10,
   "metadata": {},
   "outputs": [
    {
     "data": {
      "text/plain": [
       "0.09239528607504222"
      ]
     },
     "execution_count": 10,
     "metadata": {},
     "output_type": "execute_result"
    }
   ],
   "source": [
    "#id 2 Inattentive\n",
    "n=9\n",
    "variance=0.02\n",
    "z=1.96\n",
    "\n",
    "E=z*(variance**(1/2))/(n)**(1/2)\n",
    "E"
   ]
  },
  {
   "cell_type": "code",
   "execution_count": 11,
   "metadata": {},
   "outputs": [
    {
     "data": {
      "text/plain": [
       "0.05436061923007246"
      ]
     },
     "execution_count": 11,
     "metadata": {},
     "output_type": "execute_result"
    }
   ],
   "source": [
    "# id-44 helthy\n",
    "n=13\n",
    "variance=0.01\n",
    "z=1.96\n",
    "\n",
    "E=z*(variance**(1/2))/(n)**(1/2)\n",
    "E"
   ]
  },
  {
   "cell_type": "code",
   "execution_count": 2,
   "metadata": {},
   "outputs": [
    {
     "data": {
      "text/plain": [
       "0.4141641063355734"
      ]
     },
     "execution_count": 2,
     "metadata": {},
     "output_type": "execute_result"
    }
   ],
   "source": [
    "# similiry network predction deffirence\n",
    "n=86\n",
    "variance=3.84\n",
    "z=1.96\n",
    "\n",
    "E=z*(variance**(1/2))/(n)**(1/2)\n",
    "E"
   ]
  },
  {
   "cell_type": "code",
   "execution_count": null,
   "metadata": {},
   "outputs": [],
   "source": []
  }
 ],
 "metadata": {
  "kernelspec": {
   "display_name": "Python 3",
   "language": "python",
   "name": "python3"
  },
  "language_info": {
   "codemirror_mode": {
    "name": "ipython",
    "version": 3
   },
   "file_extension": ".py",
   "mimetype": "text/x-python",
   "name": "python",
   "nbconvert_exporter": "python",
   "pygments_lexer": "ipython3",
   "version": "3.7.6"
  }
 },
 "nbformat": 4,
 "nbformat_minor": 4
}
