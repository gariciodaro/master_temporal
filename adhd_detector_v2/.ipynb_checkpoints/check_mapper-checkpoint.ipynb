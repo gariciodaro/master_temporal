{
 "cells": [
  {
   "cell_type": "code",
   "execution_count": 1,
   "metadata": {},
   "outputs": [],
   "source": [
    "import os\n",
    "import sys\n",
    "import pandas as pd\n",
    "path_to_class=\"./Auxiliar\"\n",
    "\n",
    "sys.path.append(path_to_class)\n",
    "\n",
    "from OFHandlers import OFHandlers as OFH\n"
   ]
  },
  {
   "cell_type": "code",
   "execution_count": 2,
   "metadata": {},
   "outputs": [
    {
     "name": "stdout",
     "output_type": "stream",
     "text": [
      "mp_train_adhd 28\n",
      "mp_train_healthy 91\n",
      "mp_train_adhd_combined 82\n",
      "sum 201\n"
     ]
    }
   ],
   "source": [
    "mp_train_adhd=OFH.load_object(\"./Data/mp_train_adhd.file\")\n",
    "mp_train_adhd_combined=OFH.load_object(\"./Data/mp_train_adhd_combined.file\")\n",
    "mp_train_healthy=OFH.load_object(\"./Data/mp_train_healthy.file\")\n",
    "\n",
    "s1=len(mp_train_adhd)\n",
    "s2=len(mp_train_healthy)\n",
    "s3=len(mp_train_adhd_combined)\n",
    "print(\"mp_train_adhd\",len(mp_train_adhd))\n",
    "print(\"mp_train_healthy\",len(mp_train_healthy))\n",
    "print(\"mp_train_adhd_combined\",len(mp_train_adhd_combined))\n",
    "print(\"sum\",s1+s2+s3)"
   ]
  },
  {
   "cell_type": "code",
   "execution_count": 3,
   "metadata": {},
   "outputs": [
    {
     "name": "stdout",
     "output_type": "stream",
     "text": [
      "mp_test_adhd 6\n",
      "mp_test_healthy 11\n",
      "mp_test_adhd_combined 6\n",
      "sum 23\n"
     ]
    }
   ],
   "source": [
    "\n",
    "mp_test_adhd=OFH.load_object(\"./Data/mp_test_adhd.file\")\n",
    "mp_test_adhd_combined=OFH.load_object(\"./Data/mp_test_adhd_combined.file\")\n",
    "mp_test_healthy=OFH.load_object(\"./Data/mp_test_healthy.file\")\n",
    "\n",
    "s1t=len(mp_test_adhd)\n",
    "s2t=len(mp_test_healthy)\n",
    "s3t=len(mp_test_adhd_combined)\n",
    "print(\"mp_test_adhd\",len(mp_test_adhd))\n",
    "print(\"mp_test_healthy\",len(mp_test_healthy))\n",
    "print(\"mp_test_adhd_combined\",len(mp_test_adhd_combined))\n",
    "print(\"sum\",s1t+s2t+s3t)"
   ]
  },
  {
   "cell_type": "code",
   "execution_count": 4,
   "metadata": {},
   "outputs": [],
   "source": [
    "def from_map_to_df(mappers,col_name):\n",
    "    \"\"\"\n",
    "    Auxiliar function to create\n",
    "    a dataframe of subjects ID\n",
    "    with the same index as the dataset\n",
    "    \"\"\"\n",
    "    list_holder=[]\n",
    "    for each_maper in range(0,len(mappers)):\n",
    "        current_list=[[(str(key)+\",\")*(value[1]-value[0])] for key,value in mappers[each_maper].items()]\n",
    "        list_holder=list_holder+current_list\n",
    "    new_list=[]\n",
    "    for each in list_holder:\n",
    "        p_list=each[0].split(\",\")\n",
    "        new_list=new_list+p_list[0:len(p_list)-1]\n",
    "        \n",
    "    df=pd.DataFrame(new_list,columns=[col_name])\n",
    "    return df "
   ]
  },
  {
   "cell_type": "markdown",
   "metadata": {},
   "source": [
    "## Create dataframe with ID to keep track of patients (test)"
   ]
  },
  {
   "cell_type": "code",
   "execution_count": 9,
   "metadata": {},
   "outputs": [
    {
     "data": {
      "text/html": [
       "<div>\n",
       "<style scoped>\n",
       "    .dataframe tbody tr th:only-of-type {\n",
       "        vertical-align: middle;\n",
       "    }\n",
       "\n",
       "    .dataframe tbody tr th {\n",
       "        vertical-align: top;\n",
       "    }\n",
       "\n",
       "    .dataframe thead th {\n",
       "        text-align: right;\n",
       "    }\n",
       "</style>\n",
       "<table border=\"1\" class=\"dataframe\">\n",
       "  <thead>\n",
       "    <tr style=\"text-align: right;\">\n",
       "      <th></th>\n",
       "      <th>train_patient_id</th>\n",
       "    </tr>\n",
       "  </thead>\n",
       "  <tbody>\n",
       "    <tr>\n",
       "      <th>0</th>\n",
       "      <td>NDARBL444FBA</td>\n",
       "    </tr>\n",
       "    <tr>\n",
       "      <th>1</th>\n",
       "      <td>NDARBL444FBA</td>\n",
       "    </tr>\n",
       "    <tr>\n",
       "      <th>2</th>\n",
       "      <td>NDARBL444FBA</td>\n",
       "    </tr>\n",
       "    <tr>\n",
       "      <th>3</th>\n",
       "      <td>NDARBL444FBA</td>\n",
       "    </tr>\n",
       "    <tr>\n",
       "      <th>4</th>\n",
       "      <td>NDARBL444FBA</td>\n",
       "    </tr>\n",
       "  </tbody>\n",
       "</table>\n",
       "</div>"
      ],
      "text/plain": [
       "  train_patient_id\n",
       "0     NDARBL444FBA\n",
       "1     NDARBL444FBA\n",
       "2     NDARBL444FBA\n",
       "3     NDARBL444FBA\n",
       "4     NDARBL444FBA"
      ]
     },
     "execution_count": 9,
     "metadata": {},
     "output_type": "execute_result"
    }
   ],
   "source": [
    "df_train_identity=from_map_to_df([mp_train_adhd,mp_train_healthy,mp_train_adhd_combined],\"train_patient_id\")\n",
    "df_train_identity.head()"
   ]
  },
  {
   "cell_type": "code",
   "execution_count": 6,
   "metadata": {},
   "outputs": [
    {
     "data": {
      "text/html": [
       "<div>\n",
       "<style scoped>\n",
       "    .dataframe tbody tr th:only-of-type {\n",
       "        vertical-align: middle;\n",
       "    }\n",
       "\n",
       "    .dataframe tbody tr th {\n",
       "        vertical-align: top;\n",
       "    }\n",
       "\n",
       "    .dataframe thead th {\n",
       "        text-align: right;\n",
       "    }\n",
       "</style>\n",
       "<table border=\"1\" class=\"dataframe\">\n",
       "  <thead>\n",
       "    <tr style=\"text-align: right;\">\n",
       "      <th></th>\n",
       "      <th>test_patient_id</th>\n",
       "    </tr>\n",
       "  </thead>\n",
       "  <tbody>\n",
       "    <tr>\n",
       "      <th>0</th>\n",
       "      <td>NDARXF497LYF</td>\n",
       "    </tr>\n",
       "    <tr>\n",
       "      <th>1</th>\n",
       "      <td>NDARXF497LYF</td>\n",
       "    </tr>\n",
       "    <tr>\n",
       "      <th>2</th>\n",
       "      <td>NDARXF497LYF</td>\n",
       "    </tr>\n",
       "    <tr>\n",
       "      <th>3</th>\n",
       "      <td>NDARXF497LYF</td>\n",
       "    </tr>\n",
       "    <tr>\n",
       "      <th>4</th>\n",
       "      <td>NDARXF497LYF</td>\n",
       "    </tr>\n",
       "  </tbody>\n",
       "</table>\n",
       "</div>"
      ],
      "text/plain": [
       "  test_patient_id\n",
       "0    NDARXF497LYF\n",
       "1    NDARXF497LYF\n",
       "2    NDARXF497LYF\n",
       "3    NDARXF497LYF\n",
       "4    NDARXF497LYF"
      ]
     },
     "execution_count": 6,
     "metadata": {},
     "output_type": "execute_result"
    }
   ],
   "source": [
    "df_test_identity=from_map_to_df([mp_test_adhd,mp_test_healthy,mp_test_adhd_combined],\"test_patient_id\")\n",
    "df_test_identity.head()"
   ]
  },
  {
   "cell_type": "code",
   "execution_count": 11,
   "metadata": {},
   "outputs": [],
   "source": [
    "OFH.save_object(\"./Data/df_train_identity.file\",df_train_identity)\n",
    "OFH.save_object(\"./Data/df_test_identity.file\",df_test_identity)"
   ]
  }
 ],
 "metadata": {
  "kernelspec": {
   "display_name": "Python 3",
   "language": "python",
   "name": "python3"
  },
  "language_info": {
   "codemirror_mode": {
    "name": "ipython",
    "version": 3
   },
   "file_extension": ".py",
   "mimetype": "text/x-python",
   "name": "python",
   "nbconvert_exporter": "python",
   "pygments_lexer": "ipython3",
   "version": "3.7.6"
  }
 },
 "nbformat": 4,
 "nbformat_minor": 4
}
