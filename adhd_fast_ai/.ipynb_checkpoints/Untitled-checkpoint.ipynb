{
 "cells": [
  {
   "cell_type": "code",
   "execution_count": 3,
   "metadata": {},
   "outputs": [],
   "source": [
    "path_to_class=\"/home/gari/Desktop/master_tesis/MLDiagnosisTool/Classes/\"\n",
    "\n",
    "import sys\n",
    "import os\n",
    "\n",
    "sys.path.append(path_to_class)\n",
    "from OFHandlers import OFHandlers as OFH"
   ]
  },
  {
   "cell_type": "code",
   "execution_count": 4,
   "metadata": {},
   "outputs": [],
   "source": [
    "path_identity=\"/home/gari/Desktop/master_tesis/adhd_detector_v2/Data/\"\n",
    "df_train_identity=OFH.load_object(path_identity+\"df_train_identity.file\")\n",
    "df_test_identity=OFH.load_object(path_identity+\"df_test_identity.file\")"
   ]
  },
  {
   "cell_type": "code",
   "execution_count": 6,
   "metadata": {},
   "outputs": [
    {
     "data": {
      "text/html": [
       "<div>\n",
       "<style scoped>\n",
       "    .dataframe tbody tr th:only-of-type {\n",
       "        vertical-align: middle;\n",
       "    }\n",
       "\n",
       "    .dataframe tbody tr th {\n",
       "        vertical-align: top;\n",
       "    }\n",
       "\n",
       "    .dataframe thead th {\n",
       "        text-align: right;\n",
       "    }\n",
       "</style>\n",
       "<table border=\"1\" class=\"dataframe\">\n",
       "  <thead>\n",
       "    <tr style=\"text-align: right;\">\n",
       "      <th></th>\n",
       "    </tr>\n",
       "    <tr>\n",
       "      <th>test_patient_id</th>\n",
       "    </tr>\n",
       "  </thead>\n",
       "  <tbody>\n",
       "    <tr>\n",
       "      <td>NDARBY518PRN</td>\n",
       "    </tr>\n",
       "    <tr>\n",
       "      <td>NDARGL800LDW</td>\n",
       "    </tr>\n",
       "    <tr>\n",
       "      <td>NDARHJ945PV0</td>\n",
       "    </tr>\n",
       "    <tr>\n",
       "      <td>NDARHN749RW4</td>\n",
       "    </tr>\n",
       "    <tr>\n",
       "      <td>NDARHV527DNK</td>\n",
       "    </tr>\n",
       "    <tr>\n",
       "      <td>NDARJW315BUA</td>\n",
       "    </tr>\n",
       "    <tr>\n",
       "      <td>NDARKN509RP9</td>\n",
       "    </tr>\n",
       "    <tr>\n",
       "      <td>NDARLA395AG8</td>\n",
       "    </tr>\n",
       "    <tr>\n",
       "      <td>NDARLJ356HAQ</td>\n",
       "    </tr>\n",
       "    <tr>\n",
       "      <td>NDARLU606ZDD</td>\n",
       "    </tr>\n",
       "    <tr>\n",
       "      <td>NDARMM878ZR1</td>\n",
       "    </tr>\n",
       "    <tr>\n",
       "      <td>NDARNU249EDF</td>\n",
       "    </tr>\n",
       "    <tr>\n",
       "      <td>NDARTX934NH6</td>\n",
       "    </tr>\n",
       "    <tr>\n",
       "      <td>NDARWC925WDX</td>\n",
       "    </tr>\n",
       "    <tr>\n",
       "      <td>NDARWP954GPJ</td>\n",
       "    </tr>\n",
       "    <tr>\n",
       "      <td>NDARXD388TTE</td>\n",
       "    </tr>\n",
       "    <tr>\n",
       "      <td>NDARXF497LYF</td>\n",
       "    </tr>\n",
       "    <tr>\n",
       "      <td>NDARXU018RGY</td>\n",
       "    </tr>\n",
       "    <tr>\n",
       "      <td>NDARXY532ZTT</td>\n",
       "    </tr>\n",
       "    <tr>\n",
       "      <td>NDARYF135ZHU</td>\n",
       "    </tr>\n",
       "    <tr>\n",
       "      <td>NDARYG546ZFF</td>\n",
       "    </tr>\n",
       "    <tr>\n",
       "      <td>NDARYR771VED</td>\n",
       "    </tr>\n",
       "    <tr>\n",
       "      <td>NDARZW013RUH</td>\n",
       "    </tr>\n",
       "  </tbody>\n",
       "</table>\n",
       "</div>"
      ],
      "text/plain": [
       "Empty DataFrame\n",
       "Columns: []\n",
       "Index: [NDARBY518PRN, NDARGL800LDW, NDARHJ945PV0, NDARHN749RW4, NDARHV527DNK, NDARJW315BUA, NDARKN509RP9, NDARLA395AG8, NDARLJ356HAQ, NDARLU606ZDD, NDARMM878ZR1, NDARNU249EDF, NDARTX934NH6, NDARWC925WDX, NDARWP954GPJ, NDARXD388TTE, NDARXF497LYF, NDARXU018RGY, NDARXY532ZTT, NDARYF135ZHU, NDARYG546ZFF, NDARYR771VED, NDARZW013RUH]"
      ]
     },
     "execution_count": 6,
     "metadata": {},
     "output_type": "execute_result"
    }
   ],
   "source": [
    "df_test_identity.groupby(\"test_patient_id\").count()"
   ]
  },
  {
   "cell_type": "code",
   "execution_count": null,
   "metadata": {},
   "outputs": [],
   "source": []
  }
 ],
 "metadata": {
  "kernelspec": {
   "display_name": "Python 3",
   "language": "python",
   "name": "python3"
  },
  "language_info": {
   "codemirror_mode": {
    "name": "ipython",
    "version": 3
   },
   "file_extension": ".py",
   "mimetype": "text/x-python",
   "name": "python",
   "nbconvert_exporter": "python",
   "pygments_lexer": "ipython3",
   "version": "3.7.4"
  }
 },
 "nbformat": 4,
 "nbformat_minor": 4
}
