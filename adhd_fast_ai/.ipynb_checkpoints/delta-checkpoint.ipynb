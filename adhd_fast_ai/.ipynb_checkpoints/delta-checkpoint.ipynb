{
 "cells": [
  {
   "cell_type": "code",
   "execution_count": 1,
   "metadata": {},
   "outputs": [],
   "source": [
    "%reload_ext autoreload\n",
    "%autoreload 2\n",
    "%matplotlib inline\n",
    "\n",
    "\n",
    "import os\n",
    "import sys\n",
    "import numpy as np\n",
    "import pandas as pd\n",
    "import matplotlib.pyplot as plt\n",
    "\n",
    "sys.path.append(\"/home/gari/Desktop/master_tesis_v2/\")\n",
    "from OFHandlers import OFHandlers as OFH\n",
    "\n",
    "sys.path.append(\"/home/gari/Desktop/master_tesis_v2/adhd_detector_v2/Auxiliar/\")\n",
    "from SubjectPick import split_for_brain_library,select_from_each_grup \n",
    "\n",
    "from a_featuresToImage import feature_to_image\n",
    "from b_FastAiExperiment import run_fast_ai_experiment\n",
    "from b_FastAiExperiment import compare_test_agaist_random,get_predictions,get_subject_mean_metrics\n",
    "\n"
   ]
  },
  {
   "cell_type": "code",
   "execution_count": 2,
   "metadata": {},
   "outputs": [],
   "source": [
    "experiment=\"entropy\"\n",
    "\n",
    "path_to_save=\"/home/gari/Desktop/master_tesis_v2/Data/Datasets_image_\"+experiment\n",
    "path_to_save_random=\"/home/gari/Desktop/master_tesis_v2/Data/Datasets_image_random_\"+experiment"
   ]
  },
  {
   "cell_type": "markdown",
   "metadata": {},
   "source": [
    "# Experiment Entropy Tunning CNN Restnet18"
   ]
  },
  {
   "cell_type": "code",
   "execution_count": 4,
   "metadata": {},
   "outputs": [],
   "source": [
    "results_subject_pre_random=OFH.load_object(path_to_save_random+\"/results_subject_pre_random.file\")\n",
    "\n",
    "def helper_compare(learn,path):\n",
    "    path_identity=\"/home/gari/Desktop/master_tesis_v2/Data/IdDataSet/\"\n",
    "    df_test_identity=OFH.load_object(path_identity+\"df_test_identity.file\")\n",
    "\n",
    "    #make prediction with new model\n",
    "    df_fast_test=OFH.load_object(path+\"/test_fast_ai.file\")\n",
    "    df_fast_test[\"target\"]=abs(df_fast_test.target-1)\n",
    "    \n",
    "    df_test_predictions=get_predictions(learn,path,df_fast_test,\"test\")\n",
    "    \n",
    "\n",
    "    (acc_score_c,\n",
    "         f1_score_c,\n",
    "         precision_score_c,\n",
    "         recall_score_c,\n",
    "         df_subject_pre)=get_subject_mean_metrics(df_test_predictions,\n",
    "                                                  df_fast_test,\"test_patient_id\")\n",
    "\n",
    "    print(\"*********************************************************\")\n",
    "    print(\"test\")\n",
    "    \n",
    "\n",
    "    print(\"acc_score_c       \",np.round(acc_score_c,2) )\n",
    "    print(\"f1_score_c        \",np.round(f1_score_c,2) )\n",
    "    print(\"precision_score_c \",np.round(precision_score_c,2) )\n",
    "    print(\"recall_score_c    \",np.round(recall_score_c,2) )\n",
    "                         \n",
    "    print(\"*********************************************************\")\n",
    "    t_test=compare_test_agaist_random(df_subject_pre,results_subject_pre_random)\n",
    "    print(\"H_0 ADHD\",t_test[0][-1])\n",
    "    print(\"H_0 Healthy\",t_test[0][-1])\n",
    "    \n",
    "    print(\"*********************************************************\")\n",
    "    return df_subject_pre"
   ]
  },
  {
   "cell_type": "code",
   "execution_count": 4,
   "metadata": {},
   "outputs": [
    {
     "name": "stdout",
     "output_type": "stream",
     "text": [
      "selected from_inattentive:  ['NDARHN931CJV', 'NDARBJ482HJL', 'NDARJZ274PRQ', 'NDARVP953BBF', 'NDARHC462NGR', 'NDARBF176LPM', 'NDARHG294AFG']\n",
      "selected from_healthy:  ['NDARLU606ZDD', 'NDARTH473LF8', 'NDAREW976FNL', 'NDARHJ945PV0', 'NDARRV638MJV', 'NDAREW201WD9', 'NDARGT682ZWN', 'NDARHV527DNK', 'NDARWA544RDT', 'NDARLJ886BFK', 'NDARVE724GEF', 'NDARTF566PYH', 'NDAREX065KJU', 'NDARAU447JZH', 'NDARLX816JUZ']\n",
      "selected from_hyperactive:  ['NDARPW577WJ7', 'NDARJE686DJL', 'NDARYL124VM6']\n",
      "selected from_combined:  ['NDARKP815KPZ', 'NDARUM991EE8', 'NDARRF897HB5', 'NDARWX338NDL', 'NDARZF949WTW']\n",
      "total valid: 30\n",
      "selected from_inattentive:  ['NDARHN931CJV', 'NDARBJ482HJL', 'NDARJZ274PRQ', 'NDARVP953BBF', 'NDARHC462NGR', 'NDARBF176LPM', 'NDARHG294AFG']\n",
      "selected from_healthy:  ['NDARLU606ZDD', 'NDARTH473LF8', 'NDAREW976FNL', 'NDARHJ945PV0', 'NDARRV638MJV', 'NDAREW201WD9', 'NDARGT682ZWN', 'NDARHV527DNK', 'NDARWA544RDT', 'NDARLJ886BFK', 'NDARVE724GEF', 'NDARTF566PYH', 'NDAREX065KJU', 'NDARAU447JZH', 'NDARLX816JUZ']\n",
      "selected from_hyperactive:  ['NDARPW577WJ7', 'NDARJE686DJL', 'NDARYL124VM6']\n",
      "selected from_combined:  ['NDARKP815KPZ', 'NDARUM991EE8', 'NDARRF897HB5', 'NDARWX338NDL', 'NDARZF949WTW']\n",
      "total valid: 30\n"
     ]
    },
    {
     "name": "stderr",
     "output_type": "stream",
     "text": [
      "/home/gari/anaconda3/envs/fast_ai/lib/python3.7/site-packages/pandas/core/frame.py:4102: SettingWithCopyWarning: \n",
      "A value is trying to be set on a copy of a slice from a DataFrame\n",
      "\n",
      "See the caveats in the documentation: http://pandas.pydata.org/pandas-docs/stable/user_guide/indexing.html#returning-a-view-versus-a-copy\n",
      "  errors=errors,\n"
     ]
    },
    {
     "name": "stdout",
     "output_type": "stream",
     "text": [
      "        name  target\n",
      "0      0.png       0\n",
      "1      1.png       0\n",
      "2      2.png       0\n",
      "3      3.png       0\n",
      "4      4.png       0\n",
      "..       ...     ...\n",
      "423  423.png       0\n",
      "424  424.png       0\n",
      "425  425.png       0\n",
      "426  426.png       0\n",
      "427  427.png       0\n",
      "\n",
      "[428 rows x 2 columns]\n"
     ]
    }
   ],
   "source": [
    "experiment=\"entropy\"\n",
    "\n",
    "#Create images for experiment\n",
    "path_to_save=\"/home/gari/Desktop/master_tesis_v2/Data/Datasets_image_\"+experiment\n",
    "feature_to_image(experiment=experiment,\n",
    "                path_to_read_data=\"/home/gari/Desktop/master_tesis_v2/Data\",\n",
    "                path_to_save=path_to_save,\n",
    "                dim_tuple=(10,11),\n",
    "                shuffle_label=False)\n",
    "\n"
   ]
  },
  {
   "cell_type": "code",
   "execution_count": 3,
   "metadata": {},
   "outputs": [
    {
     "name": "stdout",
     "output_type": "stream",
     "text": [
      "selected from_inattentive:  ['NDARHN931CJV', 'NDARBJ482HJL', 'NDARJZ274PRQ', 'NDARVP953BBF', 'NDARHC462NGR', 'NDARBF176LPM', 'NDARHG294AFG']\n",
      "selected from_healthy:  ['NDARLU606ZDD', 'NDARTH473LF8', 'NDAREW976FNL', 'NDARHJ945PV0', 'NDARRV638MJV', 'NDAREW201WD9', 'NDARGT682ZWN', 'NDARHV527DNK', 'NDARWA544RDT', 'NDARLJ886BFK', 'NDARVE724GEF', 'NDARTF566PYH', 'NDAREX065KJU', 'NDARAU447JZH', 'NDARLX816JUZ']\n",
      "selected from_hyperactive:  ['NDARPW577WJ7', 'NDARJE686DJL', 'NDARYL124VM6']\n",
      "selected from_combined:  ['NDARKP815KPZ', 'NDARUM991EE8', 'NDARRF897HB5', 'NDARWX338NDL', 'NDARZF949WTW']\n",
      "total valid: 30\n",
      "selected from_inattentive:  ['NDARHN931CJV', 'NDARBJ482HJL', 'NDARJZ274PRQ', 'NDARVP953BBF', 'NDARHC462NGR', 'NDARBF176LPM', 'NDARHG294AFG']\n",
      "selected from_healthy:  ['NDARLU606ZDD', 'NDARTH473LF8', 'NDAREW976FNL', 'NDARHJ945PV0', 'NDARRV638MJV', 'NDAREW201WD9', 'NDARGT682ZWN', 'NDARHV527DNK', 'NDARWA544RDT', 'NDARLJ886BFK', 'NDARVE724GEF', 'NDARTF566PYH', 'NDAREX065KJU', 'NDARAU447JZH', 'NDARLX816JUZ']\n",
      "selected from_hyperactive:  ['NDARPW577WJ7', 'NDARJE686DJL', 'NDARYL124VM6']\n",
      "selected from_combined:  ['NDARKP815KPZ', 'NDARUM991EE8', 'NDARRF897HB5', 'NDARWX338NDL', 'NDARZF949WTW']\n",
      "total valid: 30\n"
     ]
    },
    {
     "name": "stderr",
     "output_type": "stream",
     "text": [
      "/home/gari/anaconda3/envs/fast_ai/lib/python3.7/site-packages/pandas/core/frame.py:4102: SettingWithCopyWarning: \n",
      "A value is trying to be set on a copy of a slice from a DataFrame\n",
      "\n",
      "See the caveats in the documentation: http://pandas.pydata.org/pandas-docs/stable/user_guide/indexing.html#returning-a-view-versus-a-copy\n",
      "  errors=errors,\n"
     ]
    },
    {
     "name": "stdout",
     "output_type": "stream",
     "text": [
      "        name  target\n",
      "0      0.png       0\n",
      "1      1.png       0\n",
      "2      2.png       0\n",
      "3      3.png       0\n",
      "4      4.png       0\n",
      "..       ...     ...\n",
      "423  423.png       0\n",
      "424  424.png       0\n",
      "425  425.png       0\n",
      "426  426.png       0\n",
      "427  427.png       0\n",
      "\n",
      "[428 rows x 2 columns]\n"
     ]
    }
   ],
   "source": [
    "\n",
    "#shuffle labels on trainset to\n",
    "#create a clf to compare how\n",
    "#close a given model is to a random clf\n",
    "path_to_save_random=\"/home/gari/Desktop/master_tesis_v2/Data/Datasets_image_random_\"+experiment\n",
    "feature_to_image(experiment=experiment,\n",
    "                path_to_read_data=\"/home/gari/Desktop/master_tesis_v2/Data\",\n",
    "                path_to_save=path_to_save_random,\n",
    "                dim_tuple=(10,11),\n",
    "                shuffle_label=True)"
   ]
  },
  {
   "cell_type": "code",
   "execution_count": 4,
   "metadata": {},
   "outputs": [
    {
     "data": {
      "text/html": [
       "<table border=\"1\" class=\"dataframe\">\n",
       "  <thead>\n",
       "    <tr style=\"text-align: left;\">\n",
       "      <th>epoch</th>\n",
       "      <th>train_loss</th>\n",
       "      <th>valid_loss</th>\n",
       "      <th>accuracy</th>\n",
       "      <th>auroc</th>\n",
       "      <th>time</th>\n",
       "    </tr>\n",
       "  </thead>\n",
       "  <tbody>\n",
       "    <tr>\n",
       "      <td>0</td>\n",
       "      <td>0.984390</td>\n",
       "      <td>1.236826</td>\n",
       "      <td>0.440000</td>\n",
       "      <td>0.445946</td>\n",
       "      <td>00:23</td>\n",
       "    </tr>\n",
       "    <tr>\n",
       "      <td>1</td>\n",
       "      <td>0.917618</td>\n",
       "      <td>0.958175</td>\n",
       "      <td>0.506667</td>\n",
       "      <td>0.509780</td>\n",
       "      <td>00:23</td>\n",
       "    </tr>\n",
       "    <tr>\n",
       "      <td>2</td>\n",
       "      <td>0.915465</td>\n",
       "      <td>0.884124</td>\n",
       "      <td>0.506667</td>\n",
       "      <td>0.506579</td>\n",
       "      <td>00:23</td>\n",
       "    </tr>\n",
       "    <tr>\n",
       "      <td>3</td>\n",
       "      <td>0.855622</td>\n",
       "      <td>0.783838</td>\n",
       "      <td>0.506667</td>\n",
       "      <td>0.537518</td>\n",
       "      <td>00:23</td>\n",
       "    </tr>\n",
       "    <tr>\n",
       "      <td>4</td>\n",
       "      <td>0.787829</td>\n",
       "      <td>0.712122</td>\n",
       "      <td>0.540000</td>\n",
       "      <td>0.536984</td>\n",
       "      <td>00:23</td>\n",
       "    </tr>\n",
       "    <tr>\n",
       "      <td>5</td>\n",
       "      <td>0.787342</td>\n",
       "      <td>1.000789</td>\n",
       "      <td>0.533333</td>\n",
       "      <td>0.568990</td>\n",
       "      <td>00:23</td>\n",
       "    </tr>\n",
       "    <tr>\n",
       "      <td>6</td>\n",
       "      <td>0.755437</td>\n",
       "      <td>0.753993</td>\n",
       "      <td>0.480000</td>\n",
       "      <td>0.472795</td>\n",
       "      <td>00:23</td>\n",
       "    </tr>\n",
       "    <tr>\n",
       "      <td>7</td>\n",
       "      <td>0.738908</td>\n",
       "      <td>0.714493</td>\n",
       "      <td>0.526667</td>\n",
       "      <td>0.527916</td>\n",
       "      <td>00:23</td>\n",
       "    </tr>\n",
       "    <tr>\n",
       "      <td>8</td>\n",
       "      <td>0.664349</td>\n",
       "      <td>0.714606</td>\n",
       "      <td>0.513333</td>\n",
       "      <td>0.534317</td>\n",
       "      <td>00:23</td>\n",
       "    </tr>\n",
       "    <tr>\n",
       "      <td>9</td>\n",
       "      <td>0.574963</td>\n",
       "      <td>0.709471</td>\n",
       "      <td>0.526667</td>\n",
       "      <td>0.516714</td>\n",
       "      <td>00:23</td>\n",
       "    </tr>\n",
       "  </tbody>\n",
       "</table>"
      ],
      "text/plain": [
       "<IPython.core.display.HTML object>"
      ]
     },
     "metadata": {},
     "output_type": "display_data"
    },
    {
     "data": {
      "text/html": [],
      "text/plain": [
       "<IPython.core.display.HTML object>"
      ]
     },
     "metadata": {},
     "output_type": "display_data"
    },
    {
     "name": "stdout",
     "output_type": "stream",
     "text": [
      "*********************************************************\n",
      "test acc_score_c,f1_score_c,precision_score_c,recall_score_c 0.5813953488372093 0.6727272727272728 0.9024390243902439 0.5362318840579711\n",
      "*********************************************************\n"
     ]
    },
    {
     "data": {
      "image/png": "[encoded data removed]",
      "text/plain": [
       "<Figure size 504x432 with 9 Axes>"
      ]
     },
     "metadata": {
      "needs_background": "light"
     },
     "output_type": "display_data"
    },
    {
     "data": {
      "image/png": "[encoded data removed]",
      "text/plain": [
       "<Figure size 432x288 with 1 Axes>"
      ]
     },
     "metadata": {
      "needs_background": "light"
     },
     "output_type": "display_data"
    }
   ],
   "source": [
    "#Run experiment on shuffled label\n",
    "path_to_save_random=\"/home/gari/Desktop/master_tesis_v2/Data/Datasets_image_random_\"+experiment\n",
    "(acc_score_c,\n",
    "f1_score_c,\n",
    "precision_score_c,\n",
    "recall_score_c,\n",
    "df_subject_pre_random)=run_fast_ai_experiment(bs=7,\n",
    "                path=path_to_save_random,\n",
    "                string_model=\"resnet18\",\n",
    "                pretrained=False,\n",
    "                unfreeze_net=True,\n",
    "                track_save_callback=False,\n",
    "                number_epochs=10,\n",
    "                ps=0.00,\n",
    "                normalize=False)\n",
    "#OFH.save_object(path_to_save_random+\"/results_subject_pre_random.file\",df_subject_pre_random)"
   ]
  },
  {
   "cell_type": "code",
   "execution_count": 6,
   "metadata": {},
   "outputs": [],
   "source": [
    "string_model=\"resnet18\"\n",
    "bs=5\n",
    "pretrained=True\n",
    "ps=0.00\n",
    "unfreeze_net=True\n",
    "number_epochs=12\n",
    "track_save_callback=False"
   ]
  },
  {
   "cell_type": "code",
   "execution_count": 11,
   "metadata": {},
   "outputs": [
    {
     "data": {
      "text/html": [
       "<table border=\"1\" class=\"dataframe\">\n",
       "  <thead>\n",
       "    <tr style=\"text-align: left;\">\n",
       "      <th>epoch</th>\n",
       "      <th>train_loss</th>\n",
       "      <th>valid_loss</th>\n",
       "      <th>accuracy</th>\n",
       "      <th>auroc</th>\n",
       "      <th>time</th>\n",
       "    </tr>\n",
       "  </thead>\n",
       "  <tbody>\n",
       "    <tr>\n",
       "      <td>0</td>\n",
       "      <td>0.935391</td>\n",
       "      <td>1.267955</td>\n",
       "      <td>0.506667</td>\n",
       "      <td>0.480178</td>\n",
       "      <td>00:23</td>\n",
       "    </tr>\n",
       "    <tr>\n",
       "      <td>1</td>\n",
       "      <td>1.207290</td>\n",
       "      <td>0.949678</td>\n",
       "      <td>0.573333</td>\n",
       "      <td>0.642667</td>\n",
       "      <td>00:23</td>\n",
       "    </tr>\n",
       "    <tr>\n",
       "      <td>2</td>\n",
       "      <td>0.916681</td>\n",
       "      <td>1.030652</td>\n",
       "      <td>0.500000</td>\n",
       "      <td>0.565689</td>\n",
       "      <td>00:23</td>\n",
       "    </tr>\n",
       "    <tr>\n",
       "      <td>3</td>\n",
       "      <td>0.862981</td>\n",
       "      <td>0.984370</td>\n",
       "      <td>0.480000</td>\n",
       "      <td>0.460800</td>\n",
       "      <td>00:23</td>\n",
       "    </tr>\n",
       "    <tr>\n",
       "      <td>4</td>\n",
       "      <td>0.761100</td>\n",
       "      <td>1.063980</td>\n",
       "      <td>0.540000</td>\n",
       "      <td>0.548622</td>\n",
       "      <td>00:23</td>\n",
       "    </tr>\n",
       "    <tr>\n",
       "      <td>5</td>\n",
       "      <td>0.704917</td>\n",
       "      <td>0.928750</td>\n",
       "      <td>0.500000</td>\n",
       "      <td>0.487822</td>\n",
       "      <td>00:23</td>\n",
       "    </tr>\n",
       "    <tr>\n",
       "      <td>6</td>\n",
       "      <td>0.714190</td>\n",
       "      <td>0.760418</td>\n",
       "      <td>0.500000</td>\n",
       "      <td>0.537778</td>\n",
       "      <td>00:23</td>\n",
       "    </tr>\n",
       "    <tr>\n",
       "      <td>7</td>\n",
       "      <td>0.626253</td>\n",
       "      <td>0.991157</td>\n",
       "      <td>0.473333</td>\n",
       "      <td>0.480889</td>\n",
       "      <td>00:23</td>\n",
       "    </tr>\n",
       "    <tr>\n",
       "      <td>8</td>\n",
       "      <td>0.433381</td>\n",
       "      <td>1.000698</td>\n",
       "      <td>0.493333</td>\n",
       "      <td>0.488889</td>\n",
       "      <td>00:23</td>\n",
       "    </tr>\n",
       "    <tr>\n",
       "      <td>9</td>\n",
       "      <td>0.276218</td>\n",
       "      <td>1.070877</td>\n",
       "      <td>0.566667</td>\n",
       "      <td>0.569600</td>\n",
       "      <td>00:23</td>\n",
       "    </tr>\n",
       "    <tr>\n",
       "      <td>10</td>\n",
       "      <td>0.141363</td>\n",
       "      <td>1.128286</td>\n",
       "      <td>0.520000</td>\n",
       "      <td>0.574044</td>\n",
       "      <td>00:23</td>\n",
       "    </tr>\n",
       "    <tr>\n",
       "      <td>11</td>\n",
       "      <td>0.133288</td>\n",
       "      <td>1.194277</td>\n",
       "      <td>0.533333</td>\n",
       "      <td>0.573333</td>\n",
       "      <td>00:23</td>\n",
       "    </tr>\n",
       "  </tbody>\n",
       "</table>"
      ],
      "text/plain": [
       "<IPython.core.display.HTML object>"
      ]
     },
     "metadata": {},
     "output_type": "display_data"
    },
    {
     "data": {
      "text/html": [],
      "text/plain": [
       "<IPython.core.display.HTML object>"
      ]
     },
     "metadata": {},
     "output_type": "display_data"
    },
    {
     "data": {
      "text/html": [
       "\n",
       "    <div>\n",
       "        <style>\n",
       "            /* Turns off some styling */\n",
       "            progress {\n",
       "                /* gets rid of default border in Firefox and Opera. */\n",
       "                border: none;\n",
       "                /* Needs to be in here for Safari polyfill so background images work as expected. */\n",
       "                background-size: auto;\n",
       "            }\n",
       "            .progress-bar-interrupted, .progress-bar-interrupted::-webkit-progress-bar {\n",
       "                background: #F44336;\n",
       "            }\n",
       "        </style>\n",
       "      <progress value='0' class='' max='1', style='width:300px; height:20px; vertical-align: middle;'></progress>\n",
       "      0.00% [0/1 00:00<00:00]\n",
       "    </div>\n",
       "    \n",
       "<table border=\"1\" class=\"dataframe\">\n",
       "  <thead>\n",
       "    <tr style=\"text-align: left;\">\n",
       "      <th>epoch</th>\n",
       "      <th>train_loss</th>\n",
       "      <th>valid_loss</th>\n",
       "      <th>accuracy</th>\n",
       "      <th>auroc</th>\n",
       "      <th>time</th>\n",
       "    </tr>\n",
       "  </thead>\n",
       "  <tbody>\n",
       "  </tbody>\n",
       "</table><p>\n",
       "\n",
       "    <div>\n",
       "        <style>\n",
       "            /* Turns off some styling */\n",
       "            progress {\n",
       "                /* gets rid of default border in Firefox and Opera. */\n",
       "                border: none;\n",
       "                /* Needs to be in here for Safari polyfill so background images work as expected. */\n",
       "                background-size: auto;\n",
       "            }\n",
       "            .progress-bar-interrupted, .progress-bar-interrupted::-webkit-progress-bar {\n",
       "                background: #F44336;\n",
       "            }\n",
       "        </style>\n",
       "      <progress value='9' class='' max='120', style='width:300px; height:20px; vertical-align: middle;'></progress>\n",
       "      7.50% [9/120 00:01<00:23 0.1258]\n",
       "    </div>\n",
       "    "
      ],
      "text/plain": [
       "<IPython.core.display.HTML object>"
      ]
     },
     "metadata": {},
     "output_type": "display_data"
    },
    {
     "name": "stdout",
     "output_type": "stream",
     "text": [
      "LR Finder is complete, type {learner_name}.recorder.plot() to see the graph.\n",
      "*********************************************************\n",
      "acc_score_c        0.42\n",
      "f1_score_c         0.51\n",
      "precision_score_c  0.79\n",
      "recall_score_c     0.38\n",
      "*********************************************************\n"
     ]
    },
    {
     "data": {
      "image/png": "[encoded data removed]",
      "text/plain": [
       "<Figure size 504x432 with 9 Axes>"
      ]
     },
     "metadata": {
      "needs_background": "light"
     },
     "output_type": "display_data"
    },
    {
     "data": {
      "image/png": "[encoded data removed]",
      "text/plain": [
       "<Figure size 432x288 with 1 Axes>"
      ]
     },
     "metadata": {
      "needs_background": "light"
     },
     "output_type": "display_data"
    },
    {
     "data": {
      "image/png": "[encoded data removed]",
      "text/plain": [
       "<Figure size 432x288 with 1 Axes>"
      ]
     },
     "metadata": {
      "needs_background": "light"
     },
     "output_type": "display_data"
    }
   ],
   "source": [
    "#Run experiment on true label\n",
    "path_to_save=\"/home/gari/Desktop/master_tesis_v2/Data/Datasets_image_\"+experiment\n",
    "(acc_score_c,\n",
    "f1_score_c,\n",
    "precision_score_c,\n",
    "recall_score_c,\n",
    "df_subject_pre)=run_fast_ai_experiment(bs=7,\n",
    "            path=path_to_save,\n",
    "            string_model=string_model,\n",
    "            pretrained=pretrained,\n",
    "            unfreeze_net=unfreeze_net,\n",
    "            track_save_callback=track_save_callback,\n",
    "            number_epochs=number_epochs,\n",
    "            ps=ps,\n",
    "            normalize=False)\n",
    "#OFH.save_object(path_to_save+\"/results_subject_pre.file\",df_subject_pre)"
   ]
  },
  {
   "cell_type": "code",
   "execution_count": 13,
   "metadata": {},
   "outputs": [
    {
     "data": {
      "text/plain": [
       "(Ttest_indResult(statistic=-1.7909310592806678, pvalue=0.07552861210592948),\n",
       " Ttest_indResult(statistic=-1.0572176736323606, pvalue=0.29832842575475527))"
      ]
     },
     "execution_count": 13,
     "metadata": {},
     "output_type": "execute_result"
    }
   ],
   "source": [
    "#test againt first modes\n",
    "compare_test_agaist_random(df_subject_pre,results_subject_pre_random)"
   ]
  },
  {
   "cell_type": "markdown",
   "metadata": {},
   "source": [
    "### too similar to a random guess on healthy subjects. However, let us reduce the loss even further"
   ]
  },
  {
   "cell_type": "markdown",
   "metadata": {},
   "source": [
    "# Tuning"
   ]
  },
  {
   "cell_type": "code",
   "execution_count": 5,
   "metadata": {},
   "outputs": [
    {
     "ename": "NameError",
     "evalue": "name 'path_to_save' is not defined",
     "output_type": "error",
     "traceback": [
      "\u001b[0;31m---------------------------------------------------------------------------\u001b[0m",
      "\u001b[0;31mNameError\u001b[0m                                 Traceback (most recent call last)",
      "\u001b[0;32m<ipython-input-5-9f510ae61e83>\u001b[0m in \u001b[0;36m<module>\u001b[0;34m\u001b[0m\n\u001b[1;32m     18\u001b[0m \u001b[0;34m\u001b[0m\u001b[0m\n\u001b[1;32m     19\u001b[0m \u001b[0;34m\u001b[0m\u001b[0m\n\u001b[0;32m---> 20\u001b[0;31m \u001b[0mdata\u001b[0m \u001b[0;34m=\u001b[0m \u001b[0mImageDataBunch\u001b[0m\u001b[0;34m.\u001b[0m\u001b[0mfrom_folder\u001b[0m\u001b[0;34m(\u001b[0m\u001b[0mpath\u001b[0m\u001b[0;34m=\u001b[0m\u001b[0mpath_to_save\u001b[0m\u001b[0;34m,\u001b[0m\u001b[0mbs\u001b[0m\u001b[0;34m=\u001b[0m\u001b[0mbs\u001b[0m\u001b[0;34m)\u001b[0m\u001b[0;34m.\u001b[0m\u001b[0mnormalize\u001b[0m\u001b[0;34m(\u001b[0m\u001b[0mimagenet_stats\u001b[0m\u001b[0;34m)\u001b[0m\u001b[0;34m\u001b[0m\u001b[0;34m\u001b[0m\u001b[0m\n\u001b[0m\u001b[1;32m     21\u001b[0m \u001b[0;34m\u001b[0m\u001b[0m\n\u001b[1;32m     22\u001b[0m learn = cnn_learner(data,dic_models.get(string_model),\n",
      "\u001b[0;31mNameError\u001b[0m: name 'path_to_save' is not defined"
     ]
    }
   ],
   "source": [
    "from fastai.vision import *\n",
    "from fastai.metrics import *\n",
    "from fastai.callbacks import *\n",
    "import torchvision.models as models\n",
    "from sklearn.metrics import (roc_auc_score,\n",
    "                             precision_score,\n",
    "                             recall_score,\n",
    "                             f1_score,\n",
    "                             average_precision_score,\n",
    "                             accuracy_score,\n",
    "                             balanced_accuracy_score,\n",
    "                             roc_curve)\n",
    "dic_models={\"resnet18\":models.resnet18,\n",
    "            \"resnet50\":models.resnet50,\n",
    "            \"alexnet\":models.alexnet,\n",
    "            \"squeezenet1_0\":models.squeezenet1_0\n",
    "            }\n",
    "\n",
    "\n",
    "data = ImageDataBunch.from_folder(path=path_to_save,bs=bs).normalize(imagenet_stats)\n",
    "\n",
    "learn = cnn_learner(data,dic_models.get(string_model),\n",
    "                        metrics=[accuracy, AUROC()],\n",
    "                        pretrained=pretrained,\n",
    "                        ps=ps)\n",
    "\n",
    "#learn.load('stage-1')\n",
    "# freeze on overfittints\n",
    "learn.freeze()"
   ]
  },
  {
   "cell_type": "code",
   "execution_count": 19,
   "metadata": {},
   "outputs": [
    {
     "data": {
      "text/html": [
       "<table border=\"1\" class=\"dataframe\">\n",
       "  <thead>\n",
       "    <tr style=\"text-align: left;\">\n",
       "      <th>epoch</th>\n",
       "      <th>train_loss</th>\n",
       "      <th>valid_loss</th>\n",
       "      <th>accuracy</th>\n",
       "      <th>auroc</th>\n",
       "      <th>time</th>\n",
       "    </tr>\n",
       "  </thead>\n",
       "  <tbody>\n",
       "    <tr>\n",
       "      <td>0</td>\n",
       "      <td>0.228902</td>\n",
       "      <td>1.705732</td>\n",
       "      <td>0.533333</td>\n",
       "      <td>0.540267</td>\n",
       "      <td>00:18</td>\n",
       "    </tr>\n",
       "    <tr>\n",
       "      <td>1</td>\n",
       "      <td>0.185001</td>\n",
       "      <td>1.290403</td>\n",
       "      <td>0.526667</td>\n",
       "      <td>0.539556</td>\n",
       "      <td>00:18</td>\n",
       "    </tr>\n",
       "    <tr>\n",
       "      <td>2</td>\n",
       "      <td>0.157987</td>\n",
       "      <td>1.382996</td>\n",
       "      <td>0.520000</td>\n",
       "      <td>0.554844</td>\n",
       "      <td>00:18</td>\n",
       "    </tr>\n",
       "  </tbody>\n",
       "</table>"
      ],
      "text/plain": [
       "<IPython.core.display.HTML object>"
      ]
     },
     "metadata": {},
     "output_type": "display_data"
    }
   ],
   "source": [
    "learn.fit_one_cycle(3)"
   ]
  },
  {
   "cell_type": "code",
   "execution_count": 20,
   "metadata": {},
   "outputs": [
    {
     "data": {
      "image/png": "[encoded data removed]",
      "text/plain": [
       "<Figure size 432x288 with 1 Axes>"
      ]
     },
     "metadata": {
      "needs_background": "light"
     },
     "output_type": "display_data"
    }
   ],
   "source": [
    "learn.recorder.plot_losses()"
   ]
  },
  {
   "cell_type": "code",
   "execution_count": 21,
   "metadata": {},
   "outputs": [],
   "source": [
    "#learn.save('stage-2')\n",
    "learn.load('stage-2')"
   ]
  },
  {
   "cell_type": "code",
   "execution_count": 22,
   "metadata": {},
   "outputs": [
    {
     "data": {
      "text/html": [
       "<table border=\"1\" class=\"dataframe\">\n",
       "  <thead>\n",
       "    <tr style=\"text-align: left;\">\n",
       "      <th>epoch</th>\n",
       "      <th>train_loss</th>\n",
       "      <th>valid_loss</th>\n",
       "      <th>accuracy</th>\n",
       "      <th>auroc</th>\n",
       "      <th>time</th>\n",
       "    </tr>\n",
       "  </thead>\n",
       "  <tbody>\n",
       "    <tr>\n",
       "      <td>0</td>\n",
       "      <td>0.178371</td>\n",
       "      <td>1.442971</td>\n",
       "      <td>0.500000</td>\n",
       "      <td>0.550222</td>\n",
       "      <td>00:18</td>\n",
       "    </tr>\n",
       "    <tr>\n",
       "      <td>1</td>\n",
       "      <td>0.122565</td>\n",
       "      <td>1.385182</td>\n",
       "      <td>0.493333</td>\n",
       "      <td>0.546844</td>\n",
       "      <td>00:18</td>\n",
       "    </tr>\n",
       "  </tbody>\n",
       "</table>"
      ],
      "text/plain": [
       "<IPython.core.display.HTML object>"
      ]
     },
     "metadata": {},
     "output_type": "display_data"
    }
   ],
   "source": [
    "learn.fit_one_cycle(2,1.5e-06)"
   ]
  },
  {
   "cell_type": "code",
   "execution_count": 23,
   "metadata": {},
   "outputs": [
    {
     "data": {
      "text/html": [
       "\n",
       "    <div>\n",
       "        <style>\n",
       "            /* Turns off some styling */\n",
       "            progress {\n",
       "                /* gets rid of default border in Firefox and Opera. */\n",
       "                border: none;\n",
       "                /* Needs to be in here for Safari polyfill so background images work as expected. */\n",
       "                background-size: auto;\n",
       "            }\n",
       "            .progress-bar-interrupted, .progress-bar-interrupted::-webkit-progress-bar {\n",
       "                background: #F44336;\n",
       "            }\n",
       "        </style>\n",
       "      <progress value='0' class='' max='1', style='width:300px; height:20px; vertical-align: middle;'></progress>\n",
       "      0.00% [0/1 00:00<00:00]\n",
       "    </div>\n",
       "    \n",
       "<table border=\"1\" class=\"dataframe\">\n",
       "  <thead>\n",
       "    <tr style=\"text-align: left;\">\n",
       "      <th>epoch</th>\n",
       "      <th>train_loss</th>\n",
       "      <th>valid_loss</th>\n",
       "      <th>accuracy</th>\n",
       "      <th>auroc</th>\n",
       "      <th>time</th>\n",
       "    </tr>\n",
       "  </thead>\n",
       "  <tbody>\n",
       "  </tbody>\n",
       "</table><p>\n",
       "\n",
       "    <div>\n",
       "        <style>\n",
       "            /* Turns off some styling */\n",
       "            progress {\n",
       "                /* gets rid of default border in Firefox and Opera. */\n",
       "                border: none;\n",
       "                /* Needs to be in here for Safari polyfill so background images work as expected. */\n",
       "                background-size: auto;\n",
       "            }\n",
       "            .progress-bar-interrupted, .progress-bar-interrupted::-webkit-progress-bar {\n",
       "                background: #F44336;\n",
       "            }\n",
       "        </style>\n",
       "      <progress value='79' class='' max='169', style='width:300px; height:20px; vertical-align: middle;'></progress>\n",
       "      46.75% [79/169 00:08<00:09 0.5621]\n",
       "    </div>\n",
       "    "
      ],
      "text/plain": [
       "<IPython.core.display.HTML object>"
      ]
     },
     "metadata": {},
     "output_type": "display_data"
    },
    {
     "name": "stdout",
     "output_type": "stream",
     "text": [
      "LR Finder is complete, type {learner_name}.recorder.plot() to see the graph.\n"
     ]
    },
    {
     "data": {
      "image/png": "[encoded data removed]",
      "text/plain": [
       "<Figure size 432x288 with 1 Axes>"
      ]
     },
     "metadata": {
      "needs_background": "light"
     },
     "output_type": "display_data"
    }
   ],
   "source": [
    "learn.lr_find()\n",
    "learn.recorder.plot()"
   ]
  },
  {
   "cell_type": "code",
   "execution_count": 32,
   "metadata": {},
   "outputs": [
    {
     "data": {
      "text/plain": [
       "Learner(data=ImageDataBunch;\n",
       "\n",
       "Train: LabelList (845 items)\n",
       "x: ImageList\n",
       "Image (3, 543, 558),Image (3, 543, 558),Image (3, 543, 558),Image (3, 543, 558),Image (3, 543, 558)\n",
       "y: CategoryList\n",
       "Healthy,Healthy,Healthy,Healthy,Healthy\n",
       "Path: /home/gari/Desktop/master_tesis_v2/Data/Datasets_image_entropy;\n",
       "\n",
       "Valid: LabelList (150 items)\n",
       "x: ImageList\n",
       "Image (3, 543, 558),Image (3, 543, 558),Image (3, 543, 558),Image (3, 543, 558),Image (3, 543, 558)\n",
       "y: CategoryList\n",
       "Healthy,Healthy,Healthy,Healthy,Healthy\n",
       "Path: /home/gari/Desktop/master_tesis_v2/Data/Datasets_image_entropy;\n",
       "\n",
       "Test: None, model=Sequential(\n",
       "  (0): Sequential(\n",
       "    (0): Conv2d(3, 64, kernel_size=(7, 7), stride=(2, 2), padding=(3, 3), bias=False)\n",
       "    (1): BatchNorm2d(64, eps=1e-05, momentum=0.1, affine=True, track_running_stats=True)\n",
       "    (2): ReLU(inplace=True)\n",
       "    (3): MaxPool2d(kernel_size=3, stride=2, padding=1, dilation=1, ceil_mode=False)\n",
       "    (4): Sequential(\n",
       "      (0): BasicBlock(\n",
       "        (conv1): Conv2d(64, 64, kernel_size=(3, 3), stride=(1, 1), padding=(1, 1), bias=False)\n",
       "        (bn1): BatchNorm2d(64, eps=1e-05, momentum=0.1, affine=True, track_running_stats=True)\n",
       "        (relu): ReLU(inplace=True)\n",
       "        (conv2): Conv2d(64, 64, kernel_size=(3, 3), stride=(1, 1), padding=(1, 1), bias=False)\n",
       "        (bn2): BatchNorm2d(64, eps=1e-05, momentum=0.1, affine=True, track_running_stats=True)\n",
       "      )\n",
       "      (1): BasicBlock(\n",
       "        (conv1): Conv2d(64, 64, kernel_size=(3, 3), stride=(1, 1), padding=(1, 1), bias=False)\n",
       "        (bn1): BatchNorm2d(64, eps=1e-05, momentum=0.1, affine=True, track_running_stats=True)\n",
       "        (relu): ReLU(inplace=True)\n",
       "        (conv2): Conv2d(64, 64, kernel_size=(3, 3), stride=(1, 1), padding=(1, 1), bias=False)\n",
       "        (bn2): BatchNorm2d(64, eps=1e-05, momentum=0.1, affine=True, track_running_stats=True)\n",
       "      )\n",
       "    )\n",
       "    (5): Sequential(\n",
       "      (0): BasicBlock(\n",
       "        (conv1): Conv2d(64, 128, kernel_size=(3, 3), stride=(2, 2), padding=(1, 1), bias=False)\n",
       "        (bn1): BatchNorm2d(128, eps=1e-05, momentum=0.1, affine=True, track_running_stats=True)\n",
       "        (relu): ReLU(inplace=True)\n",
       "        (conv2): Conv2d(128, 128, kernel_size=(3, 3), stride=(1, 1), padding=(1, 1), bias=False)\n",
       "        (bn2): BatchNorm2d(128, eps=1e-05, momentum=0.1, affine=True, track_running_stats=True)\n",
       "        (downsample): Sequential(\n",
       "          (0): Conv2d(64, 128, kernel_size=(1, 1), stride=(2, 2), bias=False)\n",
       "          (1): BatchNorm2d(128, eps=1e-05, momentum=0.1, affine=True, track_running_stats=True)\n",
       "        )\n",
       "      )\n",
       "      (1): BasicBlock(\n",
       "        (conv1): Conv2d(128, 128, kernel_size=(3, 3), stride=(1, 1), padding=(1, 1), bias=False)\n",
       "        (bn1): BatchNorm2d(128, eps=1e-05, momentum=0.1, affine=True, track_running_stats=True)\n",
       "        (relu): ReLU(inplace=True)\n",
       "        (conv2): Conv2d(128, 128, kernel_size=(3, 3), stride=(1, 1), padding=(1, 1), bias=False)\n",
       "        (bn2): BatchNorm2d(128, eps=1e-05, momentum=0.1, affine=True, track_running_stats=True)\n",
       "      )\n",
       "    )\n",
       "    (6): Sequential(\n",
       "      (0): BasicBlock(\n",
       "        (conv1): Conv2d(128, 256, kernel_size=(3, 3), stride=(2, 2), padding=(1, 1), bias=False)\n",
       "        (bn1): BatchNorm2d(256, eps=1e-05, momentum=0.1, affine=True, track_running_stats=True)\n",
       "        (relu): ReLU(inplace=True)\n",
       "        (conv2): Conv2d(256, 256, kernel_size=(3, 3), stride=(1, 1), padding=(1, 1), bias=False)\n",
       "        (bn2): BatchNorm2d(256, eps=1e-05, momentum=0.1, affine=True, track_running_stats=True)\n",
       "        (downsample): Sequential(\n",
       "          (0): Conv2d(128, 256, kernel_size=(1, 1), stride=(2, 2), bias=False)\n",
       "          (1): BatchNorm2d(256, eps=1e-05, momentum=0.1, affine=True, track_running_stats=True)\n",
       "        )\n",
       "      )\n",
       "      (1): BasicBlock(\n",
       "        (conv1): Conv2d(256, 256, kernel_size=(3, 3), stride=(1, 1), padding=(1, 1), bias=False)\n",
       "        (bn1): BatchNorm2d(256, eps=1e-05, momentum=0.1, affine=True, track_running_stats=True)\n",
       "        (relu): ReLU(inplace=True)\n",
       "        (conv2): Conv2d(256, 256, kernel_size=(3, 3), stride=(1, 1), padding=(1, 1), bias=False)\n",
       "        (bn2): BatchNorm2d(256, eps=1e-05, momentum=0.1, affine=True, track_running_stats=True)\n",
       "      )\n",
       "    )\n",
       "    (7): Sequential(\n",
       "      (0): BasicBlock(\n",
       "        (conv1): Conv2d(256, 512, kernel_size=(3, 3), stride=(2, 2), padding=(1, 1), bias=False)\n",
       "        (bn1): BatchNorm2d(512, eps=1e-05, momentum=0.1, affine=True, track_running_stats=True)\n",
       "        (relu): ReLU(inplace=True)\n",
       "        (conv2): Conv2d(512, 512, kernel_size=(3, 3), stride=(1, 1), padding=(1, 1), bias=False)\n",
       "        (bn2): BatchNorm2d(512, eps=1e-05, momentum=0.1, affine=True, track_running_stats=True)\n",
       "        (downsample): Sequential(\n",
       "          (0): Conv2d(256, 512, kernel_size=(1, 1), stride=(2, 2), bias=False)\n",
       "          (1): BatchNorm2d(512, eps=1e-05, momentum=0.1, affine=True, track_running_stats=True)\n",
       "        )\n",
       "      )\n",
       "      (1): BasicBlock(\n",
       "        (conv1): Conv2d(512, 512, kernel_size=(3, 3), stride=(1, 1), padding=(1, 1), bias=False)\n",
       "        (bn1): BatchNorm2d(512, eps=1e-05, momentum=0.1, affine=True, track_running_stats=True)\n",
       "        (relu): ReLU(inplace=True)\n",
       "        (conv2): Conv2d(512, 512, kernel_size=(3, 3), stride=(1, 1), padding=(1, 1), bias=False)\n",
       "        (bn2): BatchNorm2d(512, eps=1e-05, momentum=0.1, affine=True, track_running_stats=True)\n",
       "      )\n",
       "    )\n",
       "  )\n",
       "  (1): Sequential(\n",
       "    (0): AdaptiveConcatPool2d(\n",
       "      (ap): AdaptiveAvgPool2d(output_size=1)\n",
       "      (mp): AdaptiveMaxPool2d(output_size=1)\n",
       "    )\n",
       "    (1): Flatten()\n",
       "    (2): BatchNorm1d(1024, eps=1e-05, momentum=0.1, affine=True, track_running_stats=True)\n",
       "    (3): Linear(in_features=1024, out_features=512, bias=True)\n",
       "    (4): ReLU(inplace=True)\n",
       "    (5): BatchNorm1d(512, eps=1e-05, momentum=0.1, affine=True, track_running_stats=True)\n",
       "    (6): Linear(in_features=512, out_features=2, bias=True)\n",
       "  )\n",
       "), opt_func=functools.partial(<class 'torch.optim.adam.Adam'>, betas=(0.9, 0.99)), loss_func=FlattenedLoss of CrossEntropyLoss(), metrics=[<function accuracy at 0x7f74c0d17b90>, AUROC()], true_wd=True, bn_wd=True, wd=0.01, train_bn=True, path=PosixPath('/home/gari/Desktop/master_tesis_v2/Data/Datasets_image_entropy'), model_dir='models', callback_fns=[functools.partial(<class 'fastai.basic_train.Recorder'>, add_time=True, silent=False)], callbacks=[], layer_groups=[Sequential(\n",
       "  (0): Conv2d(3, 64, kernel_size=(7, 7), stride=(2, 2), padding=(3, 3), bias=False)\n",
       "  (1): BatchNorm2d(64, eps=1e-05, momentum=0.1, affine=True, track_running_stats=True)\n",
       "  (2): ReLU(inplace=True)\n",
       "  (3): MaxPool2d(kernel_size=3, stride=2, padding=1, dilation=1, ceil_mode=False)\n",
       "  (4): Conv2d(64, 64, kernel_size=(3, 3), stride=(1, 1), padding=(1, 1), bias=False)\n",
       "  (5): BatchNorm2d(64, eps=1e-05, momentum=0.1, affine=True, track_running_stats=True)\n",
       "  (6): ReLU(inplace=True)\n",
       "  (7): Conv2d(64, 64, kernel_size=(3, 3), stride=(1, 1), padding=(1, 1), bias=False)\n",
       "  (8): BatchNorm2d(64, eps=1e-05, momentum=0.1, affine=True, track_running_stats=True)\n",
       "  (9): Conv2d(64, 64, kernel_size=(3, 3), stride=(1, 1), padding=(1, 1), bias=False)\n",
       "  (10): BatchNorm2d(64, eps=1e-05, momentum=0.1, affine=True, track_running_stats=True)\n",
       "  (11): ReLU(inplace=True)\n",
       "  (12): Conv2d(64, 64, kernel_size=(3, 3), stride=(1, 1), padding=(1, 1), bias=False)\n",
       "  (13): BatchNorm2d(64, eps=1e-05, momentum=0.1, affine=True, track_running_stats=True)\n",
       "  (14): Conv2d(64, 128, kernel_size=(3, 3), stride=(2, 2), padding=(1, 1), bias=False)\n",
       "  (15): BatchNorm2d(128, eps=1e-05, momentum=0.1, affine=True, track_running_stats=True)\n",
       "  (16): ReLU(inplace=True)\n",
       "  (17): Conv2d(128, 128, kernel_size=(3, 3), stride=(1, 1), padding=(1, 1), bias=False)\n",
       "  (18): BatchNorm2d(128, eps=1e-05, momentum=0.1, affine=True, track_running_stats=True)\n",
       "  (19): Conv2d(64, 128, kernel_size=(1, 1), stride=(2, 2), bias=False)\n",
       "  (20): BatchNorm2d(128, eps=1e-05, momentum=0.1, affine=True, track_running_stats=True)\n",
       "  (21): Conv2d(128, 128, kernel_size=(3, 3), stride=(1, 1), padding=(1, 1), bias=False)\n",
       "  (22): BatchNorm2d(128, eps=1e-05, momentum=0.1, affine=True, track_running_stats=True)\n",
       "  (23): ReLU(inplace=True)\n",
       "  (24): Conv2d(128, 128, kernel_size=(3, 3), stride=(1, 1), padding=(1, 1), bias=False)\n",
       "  (25): BatchNorm2d(128, eps=1e-05, momentum=0.1, affine=True, track_running_stats=True)\n",
       "), Sequential(\n",
       "  (0): Conv2d(128, 256, kernel_size=(3, 3), stride=(2, 2), padding=(1, 1), bias=False)\n",
       "  (1): BatchNorm2d(256, eps=1e-05, momentum=0.1, affine=True, track_running_stats=True)\n",
       "  (2): ReLU(inplace=True)\n",
       "  (3): Conv2d(256, 256, kernel_size=(3, 3), stride=(1, 1), padding=(1, 1), bias=False)\n",
       "  (4): BatchNorm2d(256, eps=1e-05, momentum=0.1, affine=True, track_running_stats=True)\n",
       "  (5): Conv2d(128, 256, kernel_size=(1, 1), stride=(2, 2), bias=False)\n",
       "  (6): BatchNorm2d(256, eps=1e-05, momentum=0.1, affine=True, track_running_stats=True)\n",
       "  (7): Conv2d(256, 256, kernel_size=(3, 3), stride=(1, 1), padding=(1, 1), bias=False)\n",
       "  (8): BatchNorm2d(256, eps=1e-05, momentum=0.1, affine=True, track_running_stats=True)\n",
       "  (9): ReLU(inplace=True)\n",
       "  (10): Conv2d(256, 256, kernel_size=(3, 3), stride=(1, 1), padding=(1, 1), bias=False)\n",
       "  (11): BatchNorm2d(256, eps=1e-05, momentum=0.1, affine=True, track_running_stats=True)\n",
       "  (12): Conv2d(256, 512, kernel_size=(3, 3), stride=(2, 2), padding=(1, 1), bias=False)\n",
       "  (13): BatchNorm2d(512, eps=1e-05, momentum=0.1, affine=True, track_running_stats=True)\n",
       "  (14): ReLU(inplace=True)\n",
       "  (15): Conv2d(512, 512, kernel_size=(3, 3), stride=(1, 1), padding=(1, 1), bias=False)\n",
       "  (16): BatchNorm2d(512, eps=1e-05, momentum=0.1, affine=True, track_running_stats=True)\n",
       "  (17): Conv2d(256, 512, kernel_size=(1, 1), stride=(2, 2), bias=False)\n",
       "  (18): BatchNorm2d(512, eps=1e-05, momentum=0.1, affine=True, track_running_stats=True)\n",
       "  (19): Conv2d(512, 512, kernel_size=(3, 3), stride=(1, 1), padding=(1, 1), bias=False)\n",
       "  (20): BatchNorm2d(512, eps=1e-05, momentum=0.1, affine=True, track_running_stats=True)\n",
       "  (21): ReLU(inplace=True)\n",
       "  (22): Conv2d(512, 512, kernel_size=(3, 3), stride=(1, 1), padding=(1, 1), bias=False)\n",
       "  (23): BatchNorm2d(512, eps=1e-05, momentum=0.1, affine=True, track_running_stats=True)\n",
       "), Sequential(\n",
       "  (0): AdaptiveAvgPool2d(output_size=1)\n",
       "  (1): AdaptiveMaxPool2d(output_size=1)\n",
       "  (2): Flatten()\n",
       "  (3): BatchNorm1d(1024, eps=1e-05, momentum=0.1, affine=True, track_running_stats=True)\n",
       "  (4): Linear(in_features=1024, out_features=512, bias=True)\n",
       "  (5): ReLU(inplace=True)\n",
       "  (6): BatchNorm1d(512, eps=1e-05, momentum=0.1, affine=True, track_running_stats=True)\n",
       "  (7): Linear(in_features=512, out_features=2, bias=True)\n",
       ")], add_time=True, silent=False)"
      ]
     },
     "execution_count": 32,
     "metadata": {},
     "output_type": "execute_result"
    }
   ],
   "source": [
    "#learn.save('stage-3')\n",
    "learn.load('stage-3')"
   ]
  },
  {
   "cell_type": "code",
   "execution_count": 33,
   "metadata": {},
   "outputs": [
    {
     "data": {
      "text/html": [
       "<table border=\"1\" class=\"dataframe\">\n",
       "  <thead>\n",
       "    <tr style=\"text-align: left;\">\n",
       "      <th>epoch</th>\n",
       "      <th>train_loss</th>\n",
       "      <th>valid_loss</th>\n",
       "      <th>accuracy</th>\n",
       "      <th>auroc</th>\n",
       "      <th>time</th>\n",
       "    </tr>\n",
       "  </thead>\n",
       "  <tbody>\n",
       "    <tr>\n",
       "      <td>0</td>\n",
       "      <td>0.119931</td>\n",
       "      <td>1.411861</td>\n",
       "      <td>0.513333</td>\n",
       "      <td>0.551289</td>\n",
       "      <td>00:18</td>\n",
       "    </tr>\n",
       "    <tr>\n",
       "      <td>1</td>\n",
       "      <td>0.187312</td>\n",
       "      <td>1.473986</td>\n",
       "      <td>0.500000</td>\n",
       "      <td>0.550933</td>\n",
       "      <td>00:18</td>\n",
       "    </tr>\n",
       "    <tr>\n",
       "      <td>2</td>\n",
       "      <td>0.116476</td>\n",
       "      <td>1.385564</td>\n",
       "      <td>0.513333</td>\n",
       "      <td>0.544711</td>\n",
       "      <td>00:18</td>\n",
       "    </tr>\n",
       "    <tr>\n",
       "      <td>3</td>\n",
       "      <td>0.123595</td>\n",
       "      <td>1.378746</td>\n",
       "      <td>0.513333</td>\n",
       "      <td>0.552355</td>\n",
       "      <td>00:18</td>\n",
       "    </tr>\n",
       "    <tr>\n",
       "      <td>4</td>\n",
       "      <td>0.133625</td>\n",
       "      <td>1.315689</td>\n",
       "      <td>0.533333</td>\n",
       "      <td>0.556267</td>\n",
       "      <td>00:18</td>\n",
       "    </tr>\n",
       "    <tr>\n",
       "      <td>5</td>\n",
       "      <td>0.109208</td>\n",
       "      <td>1.350493</td>\n",
       "      <td>0.500000</td>\n",
       "      <td>0.549511</td>\n",
       "      <td>00:18</td>\n",
       "    </tr>\n",
       "    <tr>\n",
       "      <td>6</td>\n",
       "      <td>0.155692</td>\n",
       "      <td>1.451882</td>\n",
       "      <td>0.533333</td>\n",
       "      <td>0.547378</td>\n",
       "      <td>00:18</td>\n",
       "    </tr>\n",
       "    <tr>\n",
       "      <td>7</td>\n",
       "      <td>0.198143</td>\n",
       "      <td>1.415596</td>\n",
       "      <td>0.520000</td>\n",
       "      <td>0.543111</td>\n",
       "      <td>00:19</td>\n",
       "    </tr>\n",
       "    <tr>\n",
       "      <td>8</td>\n",
       "      <td>0.132507</td>\n",
       "      <td>1.415221</td>\n",
       "      <td>0.506667</td>\n",
       "      <td>0.547911</td>\n",
       "      <td>00:18</td>\n",
       "    </tr>\n",
       "    <tr>\n",
       "      <td>9</td>\n",
       "      <td>0.118568</td>\n",
       "      <td>1.327427</td>\n",
       "      <td>0.506667</td>\n",
       "      <td>0.550044</td>\n",
       "      <td>00:19</td>\n",
       "    </tr>\n",
       "    <tr>\n",
       "      <td>10</td>\n",
       "      <td>0.148488</td>\n",
       "      <td>1.415811</td>\n",
       "      <td>0.500000</td>\n",
       "      <td>0.547200</td>\n",
       "      <td>00:19</td>\n",
       "    </tr>\n",
       "    <tr>\n",
       "      <td>11</td>\n",
       "      <td>0.088314</td>\n",
       "      <td>1.422193</td>\n",
       "      <td>0.513333</td>\n",
       "      <td>0.551467</td>\n",
       "      <td>00:19</td>\n",
       "    </tr>\n",
       "    <tr>\n",
       "      <td>12</td>\n",
       "      <td>0.171910</td>\n",
       "      <td>1.444296</td>\n",
       "      <td>0.540000</td>\n",
       "      <td>0.547378</td>\n",
       "      <td>00:19</td>\n",
       "    </tr>\n",
       "    <tr>\n",
       "      <td>13</td>\n",
       "      <td>0.241800</td>\n",
       "      <td>1.411176</td>\n",
       "      <td>0.513333</td>\n",
       "      <td>0.546844</td>\n",
       "      <td>00:19</td>\n",
       "    </tr>\n",
       "    <tr>\n",
       "      <td>14</td>\n",
       "      <td>0.142607</td>\n",
       "      <td>1.481367</td>\n",
       "      <td>0.520000</td>\n",
       "      <td>0.558756</td>\n",
       "      <td>00:19</td>\n",
       "    </tr>\n",
       "  </tbody>\n",
       "</table>"
      ],
      "text/plain": [
       "<IPython.core.display.HTML object>"
      ]
     },
     "metadata": {},
     "output_type": "display_data"
    }
   ],
   "source": [
    "#train stage\n",
    "learn.fit_one_cycle(15,2e-07)"
   ]
  },
  {
   "cell_type": "code",
   "execution_count": 9,
   "metadata": {},
   "outputs": [
    {
     "name": "stdout",
     "output_type": "stream",
     "text": [
      "*********************************************************\n",
      "test\n",
      "acc_score_c        0.42\n",
      "f1_score_c         0.49\n",
      "precision_score_c  0.83\n",
      "recall_score_c     0.35\n",
      "*********************************************************\n",
      "H_0 ADHD 0.005629048152638656\n",
      "H_0 Healthy 0.005629048152638656\n",
      "*********************************************************\n"
     ]
    }
   ],
   "source": [
    "df_test_predicted=helper_compare(learn,path_to_save)"
   ]
  },
  {
   "cell_type": "code",
   "execution_count": null,
   "metadata": {},
   "outputs": [],
   "source": [
    "\n",
    "#learn.save('selected_resnet18')\n",
    "learn.load('selected_resnet18')"
   ]
  },
  {
   "cell_type": "markdown",
   "metadata": {},
   "source": [
    "# To run selected model"
   ]
  },
  {
   "cell_type": "code",
   "execution_count": 7,
   "metadata": {},
   "outputs": [
    {
     "name": "stdout",
     "output_type": "stream",
     "text": [
      "*********************************************************\n",
      "test\n",
      "acc_score_c        0.42\n",
      "f1_score_c         0.49\n",
      "precision_score_c  0.83\n",
      "recall_score_c     0.35\n",
      "*********************************************************\n",
      "H_0 ADHD 0.002195399844583282\n",
      "H_0 Healthy 0.002195399844583282\n",
      "*********************************************************\n"
     ]
    }
   ],
   "source": [
    "experiment=\"entropy\"\n",
    "\n",
    "path_to_save=\"/home/gari/Desktop/master_tesis_v2/Data/Datasets_image_\"+experiment\n",
    "path_to_save_random=\"/home/gari/Desktop/master_tesis_v2/Data/Datasets_image_random_\"+experiment\n",
    "\n",
    "\n",
    "from fastai.vision import *\n",
    "from fastai.metrics import *\n",
    "from fastai.callbacks import *\n",
    "import torchvision.models as models\n",
    "from sklearn.metrics import (roc_auc_score,\n",
    "                             precision_score,\n",
    "                             recall_score,\n",
    "                             f1_score,\n",
    "                             average_precision_score,\n",
    "                             accuracy_score,\n",
    "                             balanced_accuracy_score,\n",
    "                             roc_curve)\n",
    "dic_models={\"resnet18\":models.resnet18,\n",
    "            \"resnet50\":models.resnet50,\n",
    "            \"alexnet\":models.alexnet,\n",
    "            \"squeezenet1_0\":models.squeezenet1_0\n",
    "            }\n",
    "\n",
    "\n",
    "data = ImageDataBunch.from_folder(path=path_to_save,bs=bs).normalize(imagenet_stats)\n",
    "\n",
    "learn = cnn_learner(data,dic_models.get(string_model),\n",
    "                        metrics=[accuracy, AUROC()],\n",
    "                        pretrained=pretrained,\n",
    "                        ps=ps)\n",
    "\n",
    "#learn.load('stage-1')\n",
    "# freeze on overfittints\n",
    "learn.freeze()\n",
    "\n",
    "learn.load('selected_resnet18')\n",
    "\n",
    "df_test_predicted=helper_compare(learn,path_to_save)"
   ]
  },
  {
   "cell_type": "code",
   "execution_count": null,
   "metadata": {},
   "outputs": [],
   "source": []
  }
 ],
 "metadata": {
  "kernelspec": {
   "display_name": "Python 3",
   "language": "python",
   "name": "python3"
  },
  "language_info": {
   "codemirror_mode": {
    "name": "ipython",
    "version": 3
   },
   "file_extension": ".py",
   "mimetype": "text/x-python",
   "name": "python",
   "nbconvert_exporter": "python",
   "pygments_lexer": "ipython3",
   "version": "3.7.4"
  }
 },
 "nbformat": 4,
 "nbformat_minor": 4
}
