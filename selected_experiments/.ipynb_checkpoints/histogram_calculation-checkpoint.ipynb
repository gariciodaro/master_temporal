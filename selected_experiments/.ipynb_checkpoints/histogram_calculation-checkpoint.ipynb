{
 "cells": [
  {
   "cell_type": "markdown",
   "metadata": {},
   "source": [
    "# calculate histogram similiryty"
   ]
  },
  {
   "cell_type": "code",
   "execution_count": 6,
   "metadata": {},
   "outputs": [],
   "source": [
    "import os\n",
    "import sys\n",
    "sys.path.append(\"/home/gari/Desktop/master_tesis_v3/adhd_fast_ai/results/\")\n"
   ]
  },
  {
   "cell_type": "code",
   "execution_count": 53,
   "metadata": {},
   "outputs": [],
   "source": [
    "import cv2\n",
    "\n",
    "\n",
    "def calculate_histogram(imagePath1,imagePath2):\n",
    "    image1 = cv2.imread(imagePath1)\n",
    "    image2 = cv2.imread(imagePath2)\n",
    "    # extract a 3D RGB color histogram from the image,\n",
    "    # using 8 bins per channel, normalize, and update\n",
    "    # the index\n",
    "    hist1 = cv2.calcHist([image1], [0, 1, 2], None, [8, 8, 8],\n",
    "        [0, 256, 0, 256, 0, 256])\n",
    "    hist1 = cv2.normalize(hist1, hist1).flatten()\n",
    "\n",
    "    hist2 = cv2.calcHist([image2], [0, 1, 2], None, [8, 8, 8],\n",
    "        [0, 256, 0, 256, 0, 256])\n",
    "    hist2 = cv2.normalize(hist2, hist2).flatten()\n",
    "\n",
    "    d = cv2.compareHist(hist1, hist2, cv2.HISTCMP_CHISQR)\n",
    "\n",
    "    return d\n"
   ]
  },
  {
   "cell_type": "code",
   "execution_count": 54,
   "metadata": {},
   "outputs": [],
   "source": [
    "paths=[\"/home/gari/Desktop/back/thesis/img/miss_combined.png\",\n",
    "\"/home/gari/Desktop/back/thesis/img/miss_healthy.png\",\n",
    "\"/home/gari/Desktop/back/thesis/img/miss_hiper.png\",\n",
    "\"/home/gari/Desktop/back/thesis/img/miss_inna.png\"]"
   ]
  },
  {
   "cell_type": "code",
   "execution_count": 55,
   "metadata": {},
   "outputs": [],
   "source": [
    "import itertools\n",
    "combinatories=list(itertools.combinations(paths, 2))"
   ]
  },
  {
   "cell_type": "code",
   "execution_count": 57,
   "metadata": {},
   "outputs": [
    {
     "name": "stdout",
     "output_type": "stream",
     "text": [
      "miss_combined.png  vs  miss_healthy.png\n",
      "22.86867509259879\n",
      "miss_combined.png  vs  miss_hiper.png\n",
      "52.134152425144286\n",
      "miss_combined.png  vs  miss_inna.png\n",
      "54.465847567637326\n",
      "miss_healthy.png  vs  miss_hiper.png\n",
      "77.28327749203177\n",
      "miss_healthy.png  vs  miss_inna.png\n",
      "63.857314438302815\n",
      "miss_hiper.png  vs  miss_inna.png\n",
      "34.18185327853989\n"
     ]
    }
   ],
   "source": [
    "combinatories[0]\n",
    "\n",
    "comparison={}\n",
    "for each_comb in combinatories:\n",
    "    image1_name=each_comb[0].split(\"/\")[-1]\n",
    "    image2_name=each_comb[1].split(\"/\")[-1]\n",
    "    print(image1_name,\" vs \",image2_name)\n",
    "    print((1-calculate_histogram(each_comb[0],each_comb[1]))*100)\n",
    "    \n",
    "    "
   ]
  },
  {
   "cell_type": "code",
   "execution_count": null,
   "metadata": {},
   "outputs": [],
   "source": []
  },
  {
   "cell_type": "code",
   "execution_count": null,
   "metadata": {},
   "outputs": [],
   "source": []
  }
 ],
 "metadata": {
  "kernelspec": {
   "display_name": "Python 3",
   "language": "python",
   "name": "python3"
  },
  "language_info": {
   "codemirror_mode": {
    "name": "ipython",
    "version": 3
   },
   "file_extension": ".py",
   "mimetype": "text/x-python",
   "name": "python",
   "nbconvert_exporter": "python",
   "pygments_lexer": "ipython3",
   "version": "3.6.10"
  }
 },
 "nbformat": 4,
 "nbformat_minor": 4
}
