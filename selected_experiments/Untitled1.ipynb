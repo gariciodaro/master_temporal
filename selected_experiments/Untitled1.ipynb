{
 "cells": [
  {
   "cell_type": "markdown",
   "metadata": {},
   "source": [
    "# Create clustered 20 2d plot"
   ]
  },
  {
   "cell_type": "code",
   "execution_count": 1,
   "metadata": {},
   "outputs": [
    {
     "ename": "NameError",
     "evalue": "name 'OFH' is not defined",
     "output_type": "error",
     "traceback": [
      "\u001b[0;31m---------------------------------------------------------------------------\u001b[0m",
      "\u001b[0;31mNameError\u001b[0m                                 Traceback (most recent call last)",
      "\u001b[0;32m<ipython-input-1-495e26bfd851>\u001b[0m in \u001b[0;36m<module>\u001b[0;34m\u001b[0m\n\u001b[1;32m      1\u001b[0m \u001b[0mpath_cluster\u001b[0m\u001b[0;34m=\u001b[0m\u001b[0;34m\"/media/gari/extra_ssd/ordered_experiment/brain_20_no_smothing/master_tesis_v3/Data/MontageForClustering/\"\u001b[0m\u001b[0;34m\u001b[0m\u001b[0;34m\u001b[0m\u001b[0m\n\u001b[0;32m----> 2\u001b[0;31m \u001b[0mclustered_channels\u001b[0m\u001b[0;34m=\u001b[0m\u001b[0mOFH\u001b[0m\u001b[0;34m.\u001b[0m\u001b[0mload_object\u001b[0m\u001b[0;34m(\u001b[0m\u001b[0mpath_cluster\u001b[0m\u001b[0;34m+\u001b[0m\u001b[0;34m\"GSN_HydroCel_129_clustered.file\"\u001b[0m\u001b[0;34m)\u001b[0m\u001b[0;34m\u001b[0m\u001b[0;34m\u001b[0m\u001b[0m\n\u001b[0m\u001b[1;32m      3\u001b[0m \u001b[0mclustered_channels\u001b[0m\u001b[0;34m\u001b[0m\u001b[0;34m\u001b[0m\u001b[0m\n",
      "\u001b[0;31mNameError\u001b[0m: name 'OFH' is not defined"
     ]
    }
   ],
   "source": [
    "path_cluster=\"/media/gari/extra_ssd/ordered_experiment/brain_20_no_smothing/master_tesis_v3/Data/MontageForClustering/\"\n",
    "clustered_channels=OFH.load_object(path_cluster+\"GSN_HydroCel_129_clustered.file\")\n",
    "clustered_channels"
   ]
  },
  {
   "cell_type": "code",
   "execution_count": null,
   "metadata": {},
   "outputs": [],
   "source": []
  },
  {
   "cell_type": "code",
   "execution_count": null,
   "metadata": {},
   "outputs": [],
   "source": [
    "n_clusters=11\n",
    "colors_list=sns.color_palette(\"husl\", n_clusters)\n",
    "font = {'family': 'serif',\n",
    "        'color':  'darkred',\n",
    "        'weight': 'normal',\n",
    "        'size': 16,\n",
    "        }\n",
    "\n",
    "i=0\n",
    "fig = plt.figure(figsize=(10,10))\n",
    "ax = fig.add_subplot(111)\n",
    "for label,df in clustered_channels.groupby(\"cluster\"):\n",
    "    ax.scatter(df.Y, df.X,color=colors_list[i],label=label)\n",
    "    ax.text(df.Y.mean(), df.X.mean(), label, horizontalalignment='center',\n",
    "         verticalalignment='center',fontdict={\n",
    "                                                'color':  colors_list[i],\n",
    "                                                'weight': 'bold',\n",
    "                                                'size':20,\n",
    "                                                })\n",
    "\n",
    "    #ax.fill_between(df.Y, df.X,1)\n",
    "    #ax.plot_trisurf(df.X, df.Y,color=colors_list[i],alpha=0.5)\n",
    "    #ax.view_init(30)\n",
    "    i=i+1\n",
    "ax.spines['right'].set_visible(False)\n",
    "ax.spines['top'].set_visible(False)\n",
    "ax.spines['left'].set_visible(False)\n",
    "ax.spines['bottom'].set_visible(False)\n",
    "ax.get_xaxis().set_ticks([])\n",
    "ax.get_yaxis().set_ticks([])\n",
    "plt.legend()\n",
    "#ax.set_title(\"Clustered K 11 montage\")\n",
    "#ax.set_xlabel('X Label')\n",
    "#ax.set_ylabel('Y Label')\n",
    "#ax.set_zlabel('Z Label')\n",
    "\n",
    "#ax.view_init(30, each_angle)\n",
    "#plt.savefig(\"./img_ID_2/montage_rotation/\"+str(each_angle)+\"_3d.png\",\n",
    "#            bbox_inches=\"tight\", pad_inches=0)\n",
    "#plt.close()\n",
    "plt.savefig('/home/gari/Desktop/paper/template_paper_latex/img/cluster11.png',\n",
    "            pad_inches=0.0,transparent=True,bbox_inches=\"tight\")"
   ]
  }
 ],
 "metadata": {
  "kernelspec": {
   "display_name": "Python 3",
   "language": "python",
   "name": "python3"
  },
  "language_info": {
   "codemirror_mode": {
    "name": "ipython",
    "version": 3
   },
   "file_extension": ".py",
   "mimetype": "text/x-python",
   "name": "python",
   "nbconvert_exporter": "python",
   "pygments_lexer": "ipython3",
   "version": "3.7.6"
  }
 },
 "nbformat": 4,
 "nbformat_minor": 4
}
